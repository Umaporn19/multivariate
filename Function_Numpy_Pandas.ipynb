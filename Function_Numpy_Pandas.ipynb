{
  "nbformat": 4,
  "nbformat_minor": 0,
  "metadata": {
    "colab": {
      "name": "Function_Numpy_Pandas.ipynb",
      "provenance": [],
      "authorship_tag": "ABX9TyMwLdshqU9Gs8920tqBeh3p",
      "include_colab_link": true
    },
    "kernelspec": {
      "name": "python3",
      "display_name": "Python 3"
    }
  },
  "cells": [
    {
      "cell_type": "markdown",
      "metadata": {
        "id": "view-in-github",
        "colab_type": "text"
      },
      "source": [
        "<a href=\"https://colab.research.google.com/github/Umaporn19/multivariate/blob/main/Function_Numpy_Pandas.ipynb\" target=\"_parent\"><img src=\"https://colab.research.google.com/assets/colab-badge.svg\" alt=\"Open In Colab\"/></a>"
      ]
    },
    {
      "cell_type": "markdown",
      "metadata": {
        "id": "rKSpWUasSLff"
      },
      "source": [
        "##Function"
      ]
    },
    {
      "cell_type": "code",
      "metadata": {
        "id": "jBJWZ3ioSArD"
      },
      "source": [
        "def funtion_name(Input) :\r\n",
        "     do_something with _Input_ to get _Output_\r\n",
        "     return _Output_"
      ],
      "execution_count": null,
      "outputs": []
    },
    {
      "cell_type": "markdown",
      "metadata": {
        "id": "EF6ihzgzTjC0"
      },
      "source": [
        "funtion มีส่วนสำคัญทั้งหมด 4 ส่วน\r\n",
        "\r\n",
        "    1. บอก python ว่าเราจะเขียนฟังก์ชั่น ชื่ออะไร def function_name(): (ขาดไม่ได้)\r\n",
        "    2. กำหนดตัวแปรที่จะเป็น input Input (ขาดไม่ได้)\r\n",
        "    3. ส่วนประมวลผล do_something with Input to get Output (ขาดไม่ได้)\r\n",
        "    4. ส่วน output return Output (ขาดไม่ได้)\r\n",
        "    เราใช้เว้นวรรค indent เพื่อบอกขอบเขตของ Code  "
      ]
    },
    {
      "cell_type": "code",
      "metadata": {
        "id": "H6KCceG0UiLG"
      },
      "source": [
        "def print_name(name,surname,ID): #Input สามารถมีกี่ตัวก็ได้หรือไม่มีก็ได้\r\n",
        "      st = f'ชื่อ {name}  นามสกุล  {surname} ID  {ID}' #ภายใน function ต้องอยู่ในฟังก์ชัน\r\n",
        "      return st"
      ],
      "execution_count": 5,
      "outputs": []
    },
    {
      "cell_type": "markdown",
      "metadata": {
        "id": "6qrPQlmMWRVg"
      },
      "source": [
        "##การเรียกใช้ฟังก์ชัน"
      ]
    },
    {
      "cell_type": "code",
      "metadata": {
        "colab": {
          "base_uri": "https://localhost:8080/",
          "height": 35
        },
        "id": "h3v2_ZMaWGK6",
        "outputId": "a2975c3b-ef00-4b9a-92cc-6557796b9740"
      },
      "source": [
        "print_name('อุมาพร' , 'คำภิชัย' , '623020547-0')"
      ],
      "execution_count": 6,
      "outputs": [
        {
          "output_type": "execute_result",
          "data": {
            "application/vnd.google.colaboratory.intrinsic+json": {
              "type": "string"
            },
            "text/plain": [
              "'ชื่อ อุมาพร  นามสกุล  คำภิชัย ID  623020547-0'"
            ]
          },
          "metadata": {
            "tags": []
          },
          "execution_count": 6
        }
      ]
    },
    {
      "cell_type": "code",
      "metadata": {
        "colab": {
          "base_uri": "https://localhost:8080/"
        },
        "id": "bqshIEg0WxkZ",
        "outputId": "32cfdb28-0476-4be8-b3c1-a4d0f693d2f4"
      },
      "source": [
        "output_string = print_name('อุมาพร' , 'คำภิชัย' , '623020547-0')\r\n",
        "print(output_string)"
      ],
      "execution_count": 7,
      "outputs": [
        {
          "output_type": "stream",
          "text": [
            "ชื่อ อุมาพร  นามสกุล  คำภิชัย ID  623020547-0\n"
          ],
          "name": "stdout"
        }
      ]
    },
    {
      "cell_type": "markdown",
      "metadata": {
        "id": "wKBQBKJ4XZ7e"
      },
      "source": [
        "## ฟังก์ชั่นไม่จำเป็นต้องมี output"
      ]
    },
    {
      "cell_type": "code",
      "metadata": {
        "id": "4_0X4lVAXet-"
      },
      "source": [
        "def print_name2(surname,ID,name): \r\n",
        "      st = f'ชื่อ {name}  นามสกุล  {surname} รหัส  {ID}'\r\n",
        "      print(st)"
      ],
      "execution_count": 16,
      "outputs": []
    },
    {
      "cell_type": "code",
      "metadata": {
        "colab": {
          "base_uri": "https://localhost:8080/"
        },
        "id": "aLmT2R5sYGIN",
        "outputId": "501e6274-1499-426a-db04-c5f16bc7a1fc"
      },
      "source": [
        "print_name2('อุมาพร' , 'คำภิชัย' , '623020547-0')"
      ],
      "execution_count": 17,
      "outputs": [
        {
          "output_type": "stream",
          "text": [
            "ชื่อ 623020547-0  นามสกุล  อุมาพร รหัส  คำภิชัย\n"
          ],
          "name": "stdout"
        }
      ]
    },
    {
      "cell_type": "code",
      "metadata": {
        "colab": {
          "base_uri": "https://localhost:8080/"
        },
        "id": "0F7eEhNZYNjm",
        "outputId": "6ad2b15c-3e8b-4a98-bdef-5f66aca3b326"
      },
      "source": [
        "op2 = print_name2('อุมาพร' , 'คำภิชัย' , '623020547-0')"
      ],
      "execution_count": 18,
      "outputs": [
        {
          "output_type": "stream",
          "text": [
            "ชื่อ 623020547-0  นามสกุล  อุมาพร รหัส  คำภิชัย\n"
          ],
          "name": "stdout"
        }
      ]
    },
    {
      "cell_type": "code",
      "metadata": {
        "colab": {
          "base_uri": "https://localhost:8080/"
        },
        "id": "ccYX5P-yYVxW",
        "outputId": "fbd52f44-5379-4559-c2d4-325fba380764"
      },
      "source": [
        "print(op2)"
      ],
      "execution_count": 19,
      "outputs": [
        {
          "output_type": "stream",
          "text": [
            "None\n"
          ],
          "name": "stdout"
        }
      ]
    },
    {
      "cell_type": "code",
      "metadata": {
        "id": "kQxiZZe0YcPm"
      },
      "source": [
        "def Pi(): #ฟังก์ชั่นไม่จำเป็นต้องมี Output\r\n",
        "      return 3.14159265359"
      ],
      "execution_count": 21,
      "outputs": []
    },
    {
      "cell_type": "code",
      "metadata": {
        "colab": {
          "base_uri": "https://localhost:8080/"
        },
        "id": "Hhotv-o8ZOVd",
        "outputId": "64c5eb0a-4d8f-4d82-fbf7-812bf244a121"
      },
      "source": [
        "# คำนวณพื้นที่วงกลมที่มีขนาดเส้นผ่านศูนย์กลางเท่ากับ 3\r\n",
        "Pi()*(1.5**2)"
      ],
      "execution_count": 22,
      "outputs": [
        {
          "output_type": "execute_result",
          "data": {
            "text/plain": [
              "7.0685834705775"
            ]
          },
          "metadata": {
            "tags": []
          },
          "execution_count": 22
        }
      ]
    },
    {
      "cell_type": "code",
      "metadata": {
        "id": "GodIaFd-Zjy1"
      },
      "source": [
        "def print_my_name():\r\n",
        "      print('อุมาพร คำภิชัย ID 623020547-0')"
      ],
      "execution_count": 30,
      "outputs": []
    },
    {
      "cell_type": "code",
      "metadata": {
        "colab": {
          "base_uri": "https://localhost:8080/"
        },
        "id": "B5-irpHVZ0RH",
        "outputId": "d8e35bc4-ad18-46e4-92ca-aa6e1a813ba5"
      },
      "source": [
        "print_my_name()"
      ],
      "execution_count": 31,
      "outputs": [
        {
          "output_type": "stream",
          "text": [
            "อุมาพร คำภิชัย ID 623020547-0\n"
          ],
          "name": "stdout"
        }
      ]
    },
    {
      "cell_type": "markdown",
      "metadata": {
        "id": "h2EmoPRtaF56"
      },
      "source": [
        "### 1. input ของ function ใน python มี 2 แบบ คือ input ที่จำเป็นต้องใส่ กับ input ที่ไม่จำเป็นต้องใส่ (มีค่า default) \r\n",
        "\r\n",
        "###2.เราต้องเรียน input ที่จำเป็นต้องใส่ขึ้นก่อน "
      ]
    },
    {
      "cell_type": "code",
      "metadata": {
        "id": "X27jQgtqajHe"
      },
      "source": [
        "def print_2line_default(name, surname, ID, grade='A'): #ตั้งชื่อฟังก์ชั่น\r\n",
        "      st = f'ชื่อ {name}  นามสกุล  {surname} รหัส  {ID}'  #ส่วนฟังก์ชั่น\r\n",
        "      print(st)\r\n",
        "      st2 = f'เกรดวิชา Multivariate >>>  {grade}'\r\n",
        "      print(st2) #Input มี 2 แบบ มี default กับ ไม่มี default"
      ],
      "execution_count": 32,
      "outputs": []
    },
    {
      "cell_type": "code",
      "metadata": {
        "colab": {
          "base_uri": "https://localhost:8080/"
        },
        "id": "cwklnFRvbMpl",
        "outputId": "65902441-5e6c-49eb-da76-10c0fcf4a0c8"
      },
      "source": [
        "print_2line_default('อุมาพร' , 'คำภิชัย', '623020547-0')"
      ],
      "execution_count": 33,
      "outputs": [
        {
          "output_type": "stream",
          "text": [
            "ชื่อ อุมาพร  นามสกุล  คำภิชัย รหัส  623020547-0\n",
            "เกรดวิชา Multivariate >>>  A\n"
          ],
          "name": "stdout"
        }
      ]
    },
    {
      "cell_type": "markdown",
      "metadata": {
        "id": "I1GkrEdccBiG"
      },
      "source": [
        "###เราสามารถเรียกฟังก์ชั่นโดยใช้ชื่อตัวแปรของฟังก์ชั่นช่วยได้ "
      ]
    },
    {
      "cell_type": "code",
      "metadata": {
        "colab": {
          "base_uri": "https://localhost:8080/"
        },
        "id": "0XXKnpZ1b24H",
        "outputId": "9344dab7-c871-45b7-a22e-0eb2bb22ccb4"
      },
      "source": [
        "print_name2(name='อุมาพร' ,surname= 'คำภิชัย' , ID='623020547-0')"
      ],
      "execution_count": 34,
      "outputs": [
        {
          "output_type": "stream",
          "text": [
            "ชื่อ อุมาพร  นามสกุล  คำภิชัย รหัส  623020547-0\n"
          ],
          "name": "stdout"
        }
      ]
    },
    {
      "cell_type": "markdown",
      "metadata": {
        "id": "uDcb8yFpcuz1"
      },
      "source": [
        "### การบ้านครั้งที่ 3 \r\n",
        "\r\n",
        "#####  ให้เขียน function คำนวณจำนวนนาทีจาก เวลา ต่อไปนี้\r\n",
        "\r\n",
        "'14-15-31'\r\n",
        "\r\n",
        "'13-00-01'\r\n",
        "\r\n",
        "'05-49-44'\r\n",
        "\r\n",
        "'00-00-16'\r\n",
        "\r\n",
        "และ print ให้สวยงาม"
      ]
    }
  ]
}