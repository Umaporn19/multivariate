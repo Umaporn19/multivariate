{
  "nbformat": 4,
  "nbformat_minor": 0,
  "metadata": {
    "colab": {
      "name": "MVA001.ipynb",
      "provenance": [],
      "authorship_tag": "ABX9TyM3kX1pZMQVVp9J0LTeuP3Y",
      "include_colab_link": true
    },
    "kernelspec": {
      "name": "python3",
      "display_name": "Python 3"
    }
  },
  "cells": [
    {
      "cell_type": "markdown",
      "metadata": {
        "id": "view-in-github",
        "colab_type": "text"
      },
      "source": [
        "<a href=\"https://colab.research.google.com/github/Umaporn19/multivariate/blob/main/MVA001.ipynb\" target=\"_parent\"><img src=\"https://colab.research.google.com/assets/colab-badge.svg\" alt=\"Open In Colab\"/></a>"
      ]
    },
    {
      "cell_type": "markdown",
      "metadata": {
        "id": "1MsybYn8S30-"
      },
      "source": [
        "##Scalar, Vector, Matrix"
      ]
    },
    {
      "cell_type": "markdown",
      "metadata": {
        "id": "BzeQghnQY4Wq"
      },
      "source": [
        "###Scalar"
      ]
    },
    {
      "cell_type": "code",
      "metadata": {
        "id": "JkRzTWYqV2x_"
      },
      "source": [
        "import numpy as np"
      ],
      "execution_count": 1,
      "outputs": []
    },
    {
      "cell_type": "code",
      "metadata": {
        "colab": {
          "base_uri": "https://localhost:8080/"
        },
        "id": "4Wlc-x_SV5wr",
        "outputId": "7311866e-97a7-4e04-d44e-c2b34737136e"
      },
      "source": [
        "scalar_a = 10  #เป็นค่าคงที่ มีแค่ขนาดเท่านั้น \r\n",
        "print(scalar_a)"
      ],
      "execution_count": 2,
      "outputs": [
        {
          "output_type": "stream",
          "text": [
            "10\n"
          ],
          "name": "stdout"
        }
      ]
    },
    {
      "cell_type": "code",
      "metadata": {
        "colab": {
          "base_uri": "https://localhost:8080/"
        },
        "id": "zpb_wPgFV_CD",
        "outputId": "7b7adb5a-7842-4470-ca04-a5ae27b00fd8"
      },
      "source": [
        "vector_b = np.zeros([2,1]) #จะมีทั้งขนาดและปริมาณ มีทิศทาง\r\n",
        "vector_b[0,0] = 1\r\n",
        "vector_b[1,0] = 3\r\n",
        "print(vector_b)\r\n",
        "print(vector_b.shape)"
      ],
      "execution_count": 3,
      "outputs": [
        {
          "output_type": "stream",
          "text": [
            "[[1.]\n",
            " [3.]]\n",
            "(2, 1)\n"
          ],
          "name": "stdout"
        }
      ]
    },
    {
      "cell_type": "code",
      "metadata": {
        "colab": {
          "base_uri": "https://localhost:8080/"
        },
        "id": "9R7JPZMhWFqD",
        "outputId": "a071ea8c-66e5-494c-cb53-59e5d090ec0e"
      },
      "source": [
        "vector_c  = np.array([[1],[3]])\r\n",
        "print(vector_c)\r\n",
        "print(vector_c.shape)"
      ],
      "execution_count": 4,
      "outputs": [
        {
          "output_type": "stream",
          "text": [
            "[[1]\n",
            " [3]]\n",
            "(2, 1)\n"
          ],
          "name": "stdout"
        }
      ]
    },
    {
      "cell_type": "code",
      "metadata": {
        "id": "MWF4sz0rWOUs"
      },
      "source": [
        "from matplotlib import pyplot as plt"
      ],
      "execution_count": 5,
      "outputs": []
    },
    {
      "cell_type": "code",
      "metadata": {
        "colab": {
          "base_uri": "https://localhost:8080/",
          "height": 282
        },
        "id": "ANd7MGU8X9Kq",
        "outputId": "2bbd0483-3bdd-4639-fb42-a964154b1e03"
      },
      "source": [
        "plt.plot(vector_b[0,0],vector_b[1,0],'or') #เป็นการ plot จุด บนแกน X,Y ว่าจะอยู่ในตำแหน่งไหน"
      ],
      "execution_count": 6,
      "outputs": [
        {
          "output_type": "execute_result",
          "data": {
            "text/plain": [
              "[<matplotlib.lines.Line2D at 0x7fc868f20ac8>]"
            ]
          },
          "metadata": {
            "tags": []
          },
          "execution_count": 6
        },
        {
          "output_type": "display_data",
          "data": {
            "image/png": "[encoded data removed]",
            "text/plain": [
              "<Figure size 432x288 with 1 Axes>"
            ]
          },
          "metadata": {
            "tags": [],
            "needs_background": "light"
          }
        }
      ]
    },
    {
      "cell_type": "code",
      "metadata": {
        "colab": {
          "base_uri": "https://localhost:8080/",
          "height": 282
        },
        "id": "C-Ob3haTYQSM",
        "outputId": "72545482-ff4a-4e75-b292-0303682b4e4e"
      },
      "source": [
        "plt.quiver(0,0,vector_b[0,0],vector_b[1,0])"
      ],
      "execution_count": 7,
      "outputs": [
        {
          "output_type": "execute_result",
          "data": {
            "text/plain": [
              "<matplotlib.quiver.Quiver at 0x7fc868ebd2b0>"
            ]
          },
          "metadata": {
            "tags": []
          },
          "execution_count": 7
        },
        {
          "output_type": "display_data",
          "data": {
            "image/png": "[encoded data removed]",
            "text/plain": [
              "<Figure size 432x288 with 1 Axes>"
            ]
          },
          "metadata": {
            "tags": [],
            "needs_background": "light"
          }
        }
      ]
    },
    {
      "cell_type": "markdown",
      "metadata": {
        "id": "1QgYx5YA5Ehc"
      },
      "source": [
        "## ขนาดของ Vector คำนวณได้โดยใช้ ปิทากอรัส \r\n",
        "\r\n",
        "ปิทากอรัส \r\n",
        "C^2 = A^2 + B^2"
      ]
    },
    {
      "cell_type": "code",
      "metadata": {
        "id": "M1YMXD54YvRG",
        "colab": {
          "base_uri": "https://localhost:8080/"
        },
        "outputId": "84b1b9b2-3e83-4e26-e284-7a0613eb5434"
      },
      "source": [
        "vector_b_size = ((vector_b[0,0]**2) + (vector_b[1,0])**2)**0.5\r\n",
        "vector_b_size"
      ],
      "execution_count": 8,
      "outputs": [
        {
          "output_type": "execute_result",
          "data": {
            "text/plain": [
              "3.1622776601683795"
            ]
          },
          "metadata": {
            "tags": []
          },
          "execution_count": 8
        }
      ]
    },
    {
      "cell_type": "markdown",
      "metadata": {
        "id": "7oSUSlTQ5Wjj"
      },
      "source": [
        "##Matrix"
      ]
    },
    {
      "cell_type": "code",
      "metadata": {
        "colab": {
          "base_uri": "https://localhost:8080/"
        },
        "id": "xkiiDmhv5XU4",
        "outputId": "4ccbff88-bdf9-4d08-bfe0-db2f8798063f"
      },
      "source": [
        "matrix_d = np.array([[2,3],[1,4],[-1,1]])\r\n",
        "matrix_d"
      ],
      "execution_count": 9,
      "outputs": [
        {
          "output_type": "execute_result",
          "data": {
            "text/plain": [
              "array([[ 2,  3],\n",
              "       [ 1,  4],\n",
              "       [-1,  1]])"
            ]
          },
          "metadata": {
            "tags": []
          },
          "execution_count": 9
        }
      ]
    },
    {
      "cell_type": "code",
      "metadata": {
        "colab": {
          "base_uri": "https://localhost:8080/"
        },
        "id": "6NCMnPFP5di6",
        "outputId": "67d70b28-c8ae-4c81-bffd-63cc858e7c84"
      },
      "source": [
        "matrix_d = matrix_d.T\r\n",
        "matrix_d"
      ],
      "execution_count": 10,
      "outputs": [
        {
          "output_type": "execute_result",
          "data": {
            "text/plain": [
              "array([[ 2,  1, -1],\n",
              "       [ 3,  4,  1]])"
            ]
          },
          "metadata": {
            "tags": []
          },
          "execution_count": 10
        }
      ]
    },
    {
      "cell_type": "code",
      "metadata": {
        "colab": {
          "base_uri": "https://localhost:8080/"
        },
        "id": "1ANhSwGe5f7K",
        "outputId": "cb8452c5-a8eb-4598-ce80-39ece0f12b38"
      },
      "source": [
        "matrix_d[0,:]"
      ],
      "execution_count": 11,
      "outputs": [
        {
          "output_type": "execute_result",
          "data": {
            "text/plain": [
              "array([ 2,  1, -1])"
            ]
          },
          "metadata": {
            "tags": []
          },
          "execution_count": 11
        }
      ]
    },
    {
      "cell_type": "markdown",
      "metadata": {
        "id": "UHDWlwLp5izx"
      },
      "source": [
        "## การ plot จะใช้ .plot(ค่าX,ค่าY,หน้าตาของจุด)\r\n",
        "โดยค่า x และ y ไม่จำเป็นต้องมีค่าเดียว"
      ]
    },
    {
      "cell_type": "code",
      "metadata": {
        "colab": {
          "base_uri": "https://localhost:8080/",
          "height": 282
        },
        "id": "vTqA8Jz95kza",
        "outputId": "ecec61e3-ca2e-46f9-fcbf-f1e2f4bc37f3"
      },
      "source": [
        "plt.plot(matrix_d[0,:],matrix_d[1,:],'ro') #เป็นการ plot ของค่าจาก 0 ในทุกๆ low และจาก 1 ในทุกๆ low\r\n",
        "plt.plot(0,0,'.b') #plot (ค่าX,ค่าY,หน้าตาของจุด) \r\n",
        "plt.plot([0,0],[-1,5],'^:k') #จะดูจุดที่ plot จะต้องดูว่ามี x,y ทั้งหมดกี่ตัว เช่น แถวนี้มี x 2 ตัวและ y 2 ตัว \r\n",
        "#โดย 1 จุด จะประกอบด้วย x,y อย่างละ 1 ตัว\r\n",
        "plt.plot([-1.5,2.5],[0,0],'>:k') "
      ],
      "execution_count": 12,
      "outputs": [
        {
          "output_type": "execute_result",
          "data": {
            "text/plain": [
              "[<matplotlib.lines.Line2D at 0x7fc8601dc978>]"
            ]
          },
          "metadata": {
            "tags": []
          },
          "execution_count": 12
        },
        {
          "output_type": "display_data",
          "data": {
            "image/png": "[encoded data removed]",
            "text/plain": [
              "<Figure size 432x288 with 1 Axes>"
            ]
          },
          "metadata": {
            "tags": [],
            "needs_background": "light"
          }
        }
      ]
    },
    {
      "cell_type": "markdown",
      "metadata": {
        "id": "BsEybd7a5qEB"
      },
      "source": [
        "## Transpose\r\n",
        "\r\n",
        "ใช้เมื่อเราจะคูณ matrix ให้แถวกับหลักมาคูณกันได้"
      ]
    },
    {
      "cell_type": "code",
      "metadata": {
        "colab": {
          "base_uri": "https://localhost:8080/"
        },
        "id": "Kk3l7Ih45udx",
        "outputId": "7861af49-3a6b-47c4-84bb-9e6c30d35e3d"
      },
      "source": [
        "A = np.array([[3,-1,2],[1,5,4]])\r\n",
        "A"
      ],
      "execution_count": 13,
      "outputs": [
        {
          "output_type": "execute_result",
          "data": {
            "text/plain": [
              "array([[ 3, -1,  2],\n",
              "       [ 1,  5,  4]])"
            ]
          },
          "metadata": {
            "tags": []
          },
          "execution_count": 13
        }
      ]
    },
    {
      "cell_type": "markdown",
      "metadata": {
        "id": "_kyJVbHc51qy"
      },
      "source": [
        "##Matrix Multiply"
      ]
    },
    {
      "cell_type": "code",
      "metadata": {
        "colab": {
          "base_uri": "https://localhost:8080/"
        },
        "id": "Kqr3mie352qC",
        "outputId": "68a02494-28da-48e7-ca42-c59c3ae12b84"
      },
      "source": [
        "B = np.dot(A,A.T)\r\n",
        "B"
      ],
      "execution_count": 14,
      "outputs": [
        {
          "output_type": "execute_result",
          "data": {
            "text/plain": [
              "array([[14,  6],\n",
              "       [ 6, 42]])"
            ]
          },
          "metadata": {
            "tags": []
          },
          "execution_count": 14
        }
      ]
    },
    {
      "cell_type": "markdown",
      "metadata": {
        "id": "jPu9Gctk55wp"
      },
      "source": [
        "##Determinant"
      ]
    },
    {
      "cell_type": "code",
      "metadata": {
        "colab": {
          "base_uri": "https://localhost:8080/"
        },
        "id": "hmHMVTDg58CR",
        "outputId": "9e38574e-d249-4951-955d-af1eba102b01"
      },
      "source": [
        "np.linalg.det(B)"
      ],
      "execution_count": 15,
      "outputs": [
        {
          "output_type": "execute_result",
          "data": {
            "text/plain": [
              "551.9999999999998"
            ]
          },
          "metadata": {
            "tags": []
          },
          "execution_count": 15
        }
      ]
    },
    {
      "cell_type": "markdown",
      "metadata": {
        "id": "HP-OyqeIsX6K"
      },
      "source": [
        "##linalg = linear algebra"
      ]
    },
    {
      "cell_type": "markdown",
      "metadata": {
        "id": "7EjL1eBHsxch"
      },
      "source": [
        "matrix algebra เพิ่มเติม algebra คือ พีชคณิตของเมทริกซ์"
      ]
    },
    {
      "cell_type": "code",
      "metadata": {
        "id": "zd66X1J8slFX",
        "outputId": "2258ffd6-e143-43ab-8beb-b09385190f10",
        "colab": {
          "base_uri": "https://localhost:8080/",
          "height": 282
        }
      },
      "source": [
        "plt.plot([0,1],[0,1], '-r')  #เวคเตอร์ [1,1]\r\n",
        "plt.plot(0,0,'.b')  \r\n",
        "plt.plot([0,0],[-1,5],'^:k') \r\n",
        "\r\n",
        "plt.plot([-1.5,2.5],[0,0],'>:k') "
      ],
      "execution_count": 17,
      "outputs": [
        {
          "output_type": "execute_result",
          "data": {
            "text/plain": [
              "[<matplotlib.lines.Line2D at 0x7fc8582b7dd8>]"
            ]
          },
          "metadata": {
            "tags": []
          },
          "execution_count": 17
        },
        {
          "output_type": "display_data",
          "data": {
            "image/png": "[encoded data removed]",
            "text/plain": [
              "<Figure size 432x288 with 1 Axes>"
            ]
          },
          "metadata": {
            "tags": [],
            "needs_background": "light"
          }
        }
      ]
    },
    {
      "cell_type": "code",
      "metadata": {
        "id": "F9fj_YsuugMZ",
        "outputId": "fc8c2529-8ce2-4b09-e139-059e773513a6",
        "colab": {
          "base_uri": "https://localhost:8080/"
        }
      },
      "source": [
        "B = np.array([[1,2],[3,4]])\r\n",
        "B"
      ],
      "execution_count": 19,
      "outputs": [
        {
          "output_type": "execute_result",
          "data": {
            "text/plain": [
              "array([[1, 2],\n",
              "       [3, 4]])"
            ]
          },
          "metadata": {
            "tags": []
          },
          "execution_count": 19
        }
      ]
    },
    {
      "cell_type": "markdown",
      "metadata": {
        "id": "w72CgPVLvihG"
      },
      "source": [
        "## Matrix $B.v$ คือ การทำ linear transformation"
      ]
    },
    {
      "cell_type": "code",
      "metadata": {
        "id": "oMVRwkqDuyTR",
        "outputId": "c3813dba-141e-4ccc-db05-c8e8a28d4fac",
        "colab": {
          "base_uri": "https://localhost:8080/"
        }
      },
      "source": [
        "Bv = np.dot(B,np.array([[1],[1]]))\r\n",
        "Bv"
      ],
      "execution_count": 22,
      "outputs": [
        {
          "output_type": "execute_result",
          "data": {
            "text/plain": [
              "array([[3],\n",
              "       [7]])"
            ]
          },
          "metadata": {
            "tags": []
          },
          "execution_count": 22
        }
      ]
    },
    {
      "cell_type": "code",
      "metadata": {
        "id": "52b6r-I1vP5B",
        "outputId": "bc91bf73-18cb-4efd-8414-fc347996ef5d",
        "colab": {
          "base_uri": "https://localhost:8080/",
          "height": 282
        }
      },
      "source": [
        "plt.plot([0,Bv[0,0]],[0,Bv[1,0]],'-g') # vector Bv\r\n",
        "plt.plot([1,1],[1,0],':g') #วาดจุดไข่ปลา พื้นที่ของ Bv\r\n",
        "plt.plot([0,1],[0,1],'-r') #vector v ([1,1])\r\n",
        "plt.plot(0,0,'.b')\r\n",
        "plt.plot([0,0],[-1,5],'^:k')\r\n",
        "plt.plot([-1.5,2.5],[0,0],'>:k')"
      ],
      "execution_count": 24,
      "outputs": [
        {
          "output_type": "execute_result",
          "data": {
            "text/plain": [
              "[<matplotlib.lines.Line2D at 0x7fc857dfd7b8>]"
            ]
          },
          "metadata": {
            "tags": []
          },
          "execution_count": 24
        },
        {
          "output_type": "display_data",
          "data": {
            "image/png": "[encoded data removed]",
            "text/plain": [
              "<Figure size 432x288 with 1 Axes>"
            ]
          },
          "metadata": {
            "tags": [],
            "needs_background": "light"
          }
        }
      ]
    },
    {
      "cell_type": "markdown",
      "metadata": {
        "id": "e5OuRPDMwKXA"
      },
      "source": [
        "## Determinant ของ Matrix  ($B.v$) คือ พื้นที่ของ unit vector ที่ถูกเปลี่ยนไป โดย matrix นั้น ๆ \r\n"
      ]
    },
    {
      "cell_type": "code",
      "metadata": {
        "id": "r1oipCD51Pzd",
        "outputId": "80530968-1b09-4719-8657-09fc67192f93",
        "colab": {
          "base_uri": "https://localhost:8080/",
          "height": 282
        }
      },
      "source": [
        "plt.plot([0,Bv[0,0]],[0,Bv[1,0]],'-g') # vector Bv\r\n",
        "plt.plot([1,1],[1,0],':g') #วาดจุดไข่ปลา พื้นที่ของ Bv\r\n",
        "plt.plot([1,0],[1,1],':g') #วาดจุดไข่ปลา พื้นที่ของ Bv\r\n",
        "plt.plot([0,1],[0,1],'-r') #vector v ([1,1])\r\n",
        "plt.plot(0,0,'.b')\r\n",
        "plt.plot([0,0],[-1,5],'^:k')\r\n",
        "plt.plot([-1.5,2.5],[0,0],'>:k')"
      ],
      "execution_count": 26,
      "outputs": [
        {
          "output_type": "execute_result",
          "data": {
            "text/plain": [
              "[<matplotlib.lines.Line2D at 0x7fc857ceb828>]"
            ]
          },
          "metadata": {
            "tags": []
          },
          "execution_count": 26
        },
        {
          "output_type": "display_data",
          "data": {
            "image/png": "[encoded data removed]",
            "text/plain": [
              "<Figure size 432x288 with 1 Axes>"
            ]
          },
          "metadata": {
            "tags": [],
            "needs_background": "light"
          }
        }
      ]
    },
    {
      "cell_type": "code",
      "metadata": {
        "colab": {
          "base_uri": "https://localhost:8080/",
          "height": 282
        },
        "id": "65FmUGU9xEJA",
        "outputId": "4a3d74df-c0ee-41be-e351-0f55f622dca7"
      },
      "source": [
        "plt.plot([0,Bv[0,0]],[0,Bv[1,0]],'-g') # vector Bv\r\n",
        "plt.plot([1,1],[1,0],':r') #วาดจุดไข่ปลา พื้นที่ของ Bv\r\n",
        "plt.plot([1,0],[1,1],':r') #วาดจุดไข่ปลา พื้นที่ของ Bv\r\n",
        "plt.plot([3,3],[7,0],':g') #วาดจุดไข่ปลา พื้นที่ของ Bv\r\n",
        "plt.plot([0,3],[7,7],':g') #วาดจุดไข่ปลา พื้นที่ของ Bv\r\n",
        "plt.plot([0,1],[0,1],'-r') #vector v ([1,1])\r\n",
        "plt.plot(0,0,'.b')\r\n",
        "plt.plot([0,0],[-1,5],'^:k')\r\n",
        "plt.plot([-1.5,2.5],[0,0],'>:k')"
      ],
      "execution_count": 25,
      "outputs": [
        {
          "output_type": "execute_result",
          "data": {
            "text/plain": [
              "[<matplotlib.lines.Line2D at 0x7fc857d7c048>]"
            ]
          },
          "metadata": {
            "tags": []
          },
          "execution_count": 25
        },
        {
          "output_type": "display_data",
          "data": {
            "image/png": "[encoded data removed]",
            "text/plain": [
              "<Figure size 432x288 with 1 Axes>"
            ]
          },
          "metadata": {
            "tags": [],
            "needs_background": "light"
          }
        }
      ]
    },
    {
      "cell_type": "markdown",
      "metadata": {
        "id": "rZY03keD1YAu"
      },
      "source": [
        "## identity matrix ($I$) \r\n",
        "$BI$ = $B$ = $IB$"
      ]
    },
    {
      "cell_type": "code",
      "metadata": {
        "id": "M4AMyoBW1lAl"
      },
      "source": [
        "iden2 = np.identity(2)"
      ],
      "execution_count": 27,
      "outputs": []
    },
    {
      "cell_type": "code",
      "metadata": {
        "id": "LuLz0j7B2OZl",
        "outputId": "21f9d3ab-a762-44d9-dba0-c347ffa3240f",
        "colab": {
          "base_uri": "https://localhost:8080/"
        }
      },
      "source": [
        "B"
      ],
      "execution_count": 28,
      "outputs": [
        {
          "output_type": "execute_result",
          "data": {
            "text/plain": [
              "array([[1, 2],\n",
              "       [3, 4]])"
            ]
          },
          "metadata": {
            "tags": []
          },
          "execution_count": 28
        }
      ]
    },
    {
      "cell_type": "code",
      "metadata": {
        "id": "8pRMIZ-Q2RM-",
        "outputId": "c2488d3d-3cd8-4cb8-d870-92ea7367d003",
        "colab": {
          "base_uri": "https://localhost:8080/"
        }
      },
      "source": [
        "np.dot(B,iden2)"
      ],
      "execution_count": 29,
      "outputs": [
        {
          "output_type": "execute_result",
          "data": {
            "text/plain": [
              "array([[1., 2.],\n",
              "       [3., 4.]])"
            ]
          },
          "metadata": {
            "tags": []
          },
          "execution_count": 29
        }
      ]
    },
    {
      "cell_type": "code",
      "metadata": {
        "id": "4xX24NXU2XfT",
        "outputId": "65167641-f47b-4b1a-a7d3-0066622a53a1",
        "colab": {
          "base_uri": "https://localhost:8080/"
        }
      },
      "source": [
        "np.dot(iden2,B)"
      ],
      "execution_count": 30,
      "outputs": [
        {
          "output_type": "execute_result",
          "data": {
            "text/plain": [
              "array([[1., 2.],\n",
              "       [3., 4.]])"
            ]
          },
          "metadata": {
            "tags": []
          },
          "execution_count": 30
        }
      ]
    },
    {
      "cell_type": "code",
      "metadata": {
        "id": "_MMcQ4oQ2hDd",
        "outputId": "e7931c6f-0e09-4f89-b66a-f629a4922386",
        "colab": {
          "base_uri": "https://localhost:8080/"
        }
      },
      "source": [
        "C = np.array(([-1,2],[2,4]))\r\n",
        "C"
      ],
      "execution_count": 31,
      "outputs": [
        {
          "output_type": "execute_result",
          "data": {
            "text/plain": [
              "array([[-1,  2],\n",
              "       [ 2,  4]])"
            ]
          },
          "metadata": {
            "tags": []
          },
          "execution_count": 31
        }
      ]
    },
    {
      "cell_type": "code",
      "metadata": {
        "id": "oKOsdvuA2uYd",
        "outputId": "4d2de482-ddf9-4a7a-e8fa-de96033fbf33",
        "colab": {
          "base_uri": "https://localhost:8080/"
        }
      },
      "source": [
        "np.dot(B,C)"
      ],
      "execution_count": 32,
      "outputs": [
        {
          "output_type": "execute_result",
          "data": {
            "text/plain": [
              "array([[ 3, 10],\n",
              "       [ 5, 22]])"
            ]
          },
          "metadata": {
            "tags": []
          },
          "execution_count": 32
        }
      ]
    },
    {
      "cell_type": "code",
      "metadata": {
        "id": "iMcbHpgc2zI9",
        "outputId": "ea6e6117-8b55-4b15-e89f-2186f97dc53e",
        "colab": {
          "base_uri": "https://localhost:8080/"
        }
      },
      "source": [
        "np.dot(C,B)"
      ],
      "execution_count": 33,
      "outputs": [
        {
          "output_type": "execute_result",
          "data": {
            "text/plain": [
              "array([[ 5,  6],\n",
              "       [14, 20]])"
            ]
          },
          "metadata": {
            "tags": []
          },
          "execution_count": 33
        }
      ]
    },
    {
      "cell_type": "markdown",
      "metadata": {
        "id": "E2SmQRRr3O5W"
      },
      "source": [
        "## การบ้านในห้อง \r\n",
        "\r\n",
        "(Quiz 1 - commit quiz 1 feb 21)"
      ]
    },
    {
      "cell_type": "code",
      "metadata": {
        "id": "YToC494y3Qik",
        "outputId": "43f3ea65-8d6d-4988-852e-a852081aa38b",
        "colab": {
          "base_uri": "https://localhost:8080/"
        }
      },
      "source": [
        "ma1 = np.array([[3,1,6],[7,4,5],[2,-7,1]])\r\n",
        "ma1"
      ],
      "execution_count": 34,
      "outputs": [
        {
          "output_type": "execute_result",
          "data": {
            "text/plain": [
              "array([[ 3,  1,  6],\n",
              "       [ 7,  4,  5],\n",
              "       [ 2, -7,  1]])"
            ]
          },
          "metadata": {
            "tags": []
          },
          "execution_count": 34
        }
      ]
    },
    {
      "cell_type": "code",
      "metadata": {
        "id": "oygdjVrZ4tuk",
        "outputId": "6a5bae8e-ba0f-467d-fa92-e675a1fbe7b4",
        "colab": {
          "base_uri": "https://localhost:8080/"
        }
      },
      "source": [
        "np.linalg.det(ma1)"
      ],
      "execution_count": 35,
      "outputs": [
        {
          "output_type": "execute_result",
          "data": {
            "text/plain": [
              "-221.99999999999997"
            ]
          },
          "metadata": {
            "tags": []
          },
          "execution_count": 35
        }
      ]
    }
  ]
}