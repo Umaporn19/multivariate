{
  "nbformat": 4,
  "nbformat_minor": 0,
  "metadata": {
    "colab": {
      "name": "Multivariate Exam.ipynb",
      "provenance": [],
      "include_colab_link": true
    },
    "kernelspec": {
      "name": "python3",
      "display_name": "Python 3"
    },
    "language_info": {
      "name": "python"
    }
  },
  "cells": [
    {
      "cell_type": "markdown",
      "metadata": {
        "id": "view-in-github",
        "colab_type": "text"
      },
      "source": [
        "<a href=\"https://colab.research.google.com/github/Umaporn19/multivariate/blob/main/Multivariate_Exam.ipynb\" target=\"_parent\"><img src=\"https://colab.research.google.com/assets/colab-badge.svg\" alt=\"Open In Colab\"/></a>"
      ]
    },
    {
      "cell_type": "markdown",
      "metadata": {
        "id": "JZxiNADfaDtv"
      },
      "source": [
        "ให้นักศึกษาทำข้อสอบใน Colab Notebook นี้โดยกรอกข้อมูลของตัวเองใน cell ที่ 2 แล้วรัน cell ที่ 1 - 5 และเริ่มทำข้อสอบใน cell ที่ 6 เป็นต้นไป\n",
        "\n",
        "โดยโจทย์คือ\n",
        "1. ข้อมูลโจทย์ อยู่ใน ตัวแปร ```Data```\n",
        "2. ทำ clustering แล้วทำ visualize ข้อมูลแบบ 2 มิติ\n",
        "3. ลด Dimension ของข้อมูลเหลือ 2 มิติ แล้วทำ clustering แล้ว visualize ข้อมูลแบบ 2 มิติ\n",
        "4. เปรียบเทียบความแตกต่างของผลข้อ 2. กับ ข้อ 3.\n",
        "5. เขียน comments อธิบายทุกขั้นตอน\n",
        "6. อัด video อธิบาย code ทุกๆขั้นตอนรวมถึงผลแล้วอัพลง youtube ในรูปแบบ unlist \n",
        "7. commit โดยใช้ชื่อ commit เป็น link youtube ที่อธิบาย code ในข้อ 6.\n",
        "\n",
        "กำหนดส่งวันที่ 2 พฤษภาคม 2564 (โดยให้มากรอกวันที่ commit ครั้งสุดท้ายใน sheet: https://docs.google.com/spreadsheets/d/1_qJwLDJVtOW1HxBcf_FHVc6UT4J_SOonuR6o3EEnVzw/edit?usp=sharing ช่อง Final)"
      ]
    },
    {
      "cell_type": "code",
      "metadata": {
        "id": "cWl2x1bPGtQl"
      },
      "source": [
        "from sklearn.datasets import make_blobs\n",
        "import random,math\n",
        "import numpy as np\n",
        "import pandas"
      ],
      "execution_count": 2,
      "outputs": []
    },
    {
      "cell_type": "code",
      "metadata": {
        "id": "gZfzuiHsZksh"
      },
      "source": [
        "Name = 'อุมาพร คำภิชัย'\n",
        "ID = '6230205470'"
      ],
      "execution_count": 3,
      "outputs": []
    },
    {
      "cell_type": "code",
      "metadata": {
        "id": "8hFQXkF5aAiA"
      },
      "source": [
        "def DataGenerator(name,id):\n",
        "    random.seed(int(id[3:6]))\n",
        "    numfeat = random.randint(20,30)\n",
        "    ct = random.randint(len(name)-6,len(name))\n",
        "    \n",
        "    X, y = make_blobs(n_samples=10000, centers=ct, n_features=numfeat , random_state=int(id[3:6]))\n",
        "\n",
        "    print(f'{id[3:6]}:{numfeat}:{ct}')\n",
        "    X_t = (X[:,1]*2)+int(id[3])\n",
        "    X_t2 = (X[:,-1]*5)+int(id[4])\n",
        "\n",
        "    DT = np.append(X,X_t.reshape([10000,1]),axis=1)\n",
        "    DT = np.append(DT,X_t2.reshape([10000,1]),axis=1)\n",
        "    \n",
        "    return pandas.DataFrame(DT)"
      ],
      "execution_count": 4,
      "outputs": []
    },
    {
      "cell_type": "code",
      "metadata": {
        "colab": {
          "base_uri": "https://localhost:8080/"
        },
        "id": "hbXlxumSBX9i",
        "outputId": "f43160aa-d791-4058-d343-fb8c7caf4833"
      },
      "source": [
        "Data = DataGenerator(Name,ID)"
      ],
      "execution_count": 5,
      "outputs": [
        {
          "output_type": "stream",
          "text": [
            "020:30:14\n"
          ],
          "name": "stdout"
        }
      ]
    },
    {
      "cell_type": "code",
      "metadata": {
        "colab": {
          "base_uri": "https://localhost:8080/",
          "height": 422
        },
        "id": "pQcCySXvBdN-",
        "outputId": "9963c9ea-d3bd-450d-97f9-a921475d37a9"
      },
      "source": [
        "Data"
      ],
      "execution_count": 6,
      "outputs": [
        {
          "output_type": "execute_result",
          "data": {
            "text/html": [
              "<div>\n",
              "<style scoped>\n",
              "    .dataframe tbody tr th:only-of-type {\n",
              "        vertical-align: middle;\n",
              "    }\n",
              "\n",
              "    .dataframe tbody tr th {\n",
              "        vertical-align: top;\n",
              "    }\n",
              "\n",
              "    .dataframe thead th {\n",
              "        text-align: right;\n",
              "    }\n",
              "</style>\n",
              "<table border=\"1\" class=\"dataframe\">\n",
              "  <thead>\n",
              "    <tr style=\"text-align: right;\">\n",
              "      <th></th>\n",
              "      <th>0</th>\n",
              "      <th>1</th>\n",
              "      <th>2</th>\n",
              "      <th>3</th>\n",
              "      <th>4</th>\n",
              "      <th>5</th>\n",
              "      <th>6</th>\n",
              "      <th>7</th>\n",
              "      <th>8</th>\n",
              "      <th>9</th>\n",
              "      <th>10</th>\n",
              "      <th>11</th>\n",
              "      <th>12</th>\n",
              "      <th>13</th>\n",
              "      <th>14</th>\n",
              "      <th>15</th>\n",
              "      <th>16</th>\n",
              "      <th>17</th>\n",
              "      <th>18</th>\n",
              "      <th>19</th>\n",
              "      <th>20</th>\n",
              "      <th>21</th>\n",
              "      <th>22</th>\n",
              "      <th>23</th>\n",
              "      <th>24</th>\n",
              "      <th>25</th>\n",
              "      <th>26</th>\n",
              "      <th>27</th>\n",
              "      <th>28</th>\n",
              "      <th>29</th>\n",
              "      <th>30</th>\n",
              "      <th>31</th>\n",
              "    </tr>\n",
              "  </thead>\n",
              "  <tbody>\n",
              "    <tr>\n",
              "      <th>0</th>\n",
              "      <td>5.779841</td>\n",
              "      <td>9.590162</td>\n",
              "      <td>7.580040</td>\n",
              "      <td>-4.278572</td>\n",
              "      <td>-6.772580</td>\n",
              "      <td>-3.337118</td>\n",
              "      <td>9.763874</td>\n",
              "      <td>2.163429</td>\n",
              "      <td>8.836751</td>\n",
              "      <td>-9.402668</td>\n",
              "      <td>6.069058</td>\n",
              "      <td>-9.942346</td>\n",
              "      <td>-9.473521</td>\n",
              "      <td>-8.133425</td>\n",
              "      <td>-3.969872</td>\n",
              "      <td>-0.409420</td>\n",
              "      <td>7.109384</td>\n",
              "      <td>7.607849</td>\n",
              "      <td>1.669154</td>\n",
              "      <td>7.170246</td>\n",
              "      <td>-8.165292</td>\n",
              "      <td>4.877405</td>\n",
              "      <td>-7.617871</td>\n",
              "      <td>-6.756496</td>\n",
              "      <td>8.850628</td>\n",
              "      <td>-5.386895</td>\n",
              "      <td>7.550170</td>\n",
              "      <td>1.864166</td>\n",
              "      <td>4.126644</td>\n",
              "      <td>2.942146</td>\n",
              "      <td>19.180325</td>\n",
              "      <td>16.710729</td>\n",
              "    </tr>\n",
              "    <tr>\n",
              "      <th>1</th>\n",
              "      <td>-1.969309</td>\n",
              "      <td>-5.779929</td>\n",
              "      <td>-0.479035</td>\n",
              "      <td>7.120809</td>\n",
              "      <td>-6.967939</td>\n",
              "      <td>-2.562261</td>\n",
              "      <td>-1.431636</td>\n",
              "      <td>-2.876955</td>\n",
              "      <td>-8.809777</td>\n",
              "      <td>-7.156166</td>\n",
              "      <td>9.225777</td>\n",
              "      <td>-5.276836</td>\n",
              "      <td>-10.170002</td>\n",
              "      <td>-0.050986</td>\n",
              "      <td>2.987005</td>\n",
              "      <td>-1.758751</td>\n",
              "      <td>9.133687</td>\n",
              "      <td>-4.224050</td>\n",
              "      <td>6.810339</td>\n",
              "      <td>0.860089</td>\n",
              "      <td>4.585015</td>\n",
              "      <td>2.999504</td>\n",
              "      <td>-7.098761</td>\n",
              "      <td>-8.103267</td>\n",
              "      <td>8.184693</td>\n",
              "      <td>9.626054</td>\n",
              "      <td>3.503491</td>\n",
              "      <td>-0.090879</td>\n",
              "      <td>-0.446152</td>\n",
              "      <td>7.465699</td>\n",
              "      <td>-11.559858</td>\n",
              "      <td>39.328496</td>\n",
              "    </tr>\n",
              "    <tr>\n",
              "      <th>2</th>\n",
              "      <td>3.599102</td>\n",
              "      <td>3.524340</td>\n",
              "      <td>-6.054480</td>\n",
              "      <td>-9.089953</td>\n",
              "      <td>5.181669</td>\n",
              "      <td>-0.834194</td>\n",
              "      <td>-3.931799</td>\n",
              "      <td>-0.137943</td>\n",
              "      <td>-4.589369</td>\n",
              "      <td>-2.365034</td>\n",
              "      <td>3.685007</td>\n",
              "      <td>0.919187</td>\n",
              "      <td>-3.120397</td>\n",
              "      <td>-2.182186</td>\n",
              "      <td>-4.271154</td>\n",
              "      <td>2.253673</td>\n",
              "      <td>-6.701235</td>\n",
              "      <td>3.455984</td>\n",
              "      <td>7.511894</td>\n",
              "      <td>-4.712591</td>\n",
              "      <td>5.952467</td>\n",
              "      <td>-0.483959</td>\n",
              "      <td>3.421101</td>\n",
              "      <td>5.602329</td>\n",
              "      <td>7.429803</td>\n",
              "      <td>0.191208</td>\n",
              "      <td>2.966675</td>\n",
              "      <td>2.952572</td>\n",
              "      <td>-2.706058</td>\n",
              "      <td>2.749403</td>\n",
              "      <td>7.048680</td>\n",
              "      <td>15.747013</td>\n",
              "    </tr>\n",
              "    <tr>\n",
              "      <th>3</th>\n",
              "      <td>2.610732</td>\n",
              "      <td>2.268904</td>\n",
              "      <td>-4.365511</td>\n",
              "      <td>-8.991586</td>\n",
              "      <td>6.929414</td>\n",
              "      <td>0.396067</td>\n",
              "      <td>-3.116764</td>\n",
              "      <td>0.122945</td>\n",
              "      <td>-4.237205</td>\n",
              "      <td>-4.860459</td>\n",
              "      <td>1.596553</td>\n",
              "      <td>1.567507</td>\n",
              "      <td>-2.599508</td>\n",
              "      <td>-1.812618</td>\n",
              "      <td>-5.665761</td>\n",
              "      <td>4.284519</td>\n",
              "      <td>-6.163315</td>\n",
              "      <td>2.150961</td>\n",
              "      <td>6.780581</td>\n",
              "      <td>-7.338840</td>\n",
              "      <td>4.205672</td>\n",
              "      <td>-1.683074</td>\n",
              "      <td>4.436318</td>\n",
              "      <td>7.012761</td>\n",
              "      <td>4.945608</td>\n",
              "      <td>2.722019</td>\n",
              "      <td>1.213484</td>\n",
              "      <td>2.704299</td>\n",
              "      <td>-0.405857</td>\n",
              "      <td>0.589666</td>\n",
              "      <td>4.537807</td>\n",
              "      <td>4.948332</td>\n",
              "    </tr>\n",
              "    <tr>\n",
              "      <th>4</th>\n",
              "      <td>1.229763</td>\n",
              "      <td>6.218683</td>\n",
              "      <td>6.069170</td>\n",
              "      <td>7.837148</td>\n",
              "      <td>-7.564717</td>\n",
              "      <td>9.068409</td>\n",
              "      <td>8.398188</td>\n",
              "      <td>-6.073507</td>\n",
              "      <td>5.877496</td>\n",
              "      <td>-2.328447</td>\n",
              "      <td>-1.386795</td>\n",
              "      <td>2.800630</td>\n",
              "      <td>8.479073</td>\n",
              "      <td>6.045114</td>\n",
              "      <td>9.387522</td>\n",
              "      <td>3.651719</td>\n",
              "      <td>-8.845904</td>\n",
              "      <td>8.773557</td>\n",
              "      <td>-4.049647</td>\n",
              "      <td>4.501112</td>\n",
              "      <td>7.998507</td>\n",
              "      <td>-0.474366</td>\n",
              "      <td>6.817369</td>\n",
              "      <td>8.979003</td>\n",
              "      <td>11.270047</td>\n",
              "      <td>-5.587750</td>\n",
              "      <td>-4.801151</td>\n",
              "      <td>-4.927810</td>\n",
              "      <td>-0.572961</td>\n",
              "      <td>7.252844</td>\n",
              "      <td>12.437365</td>\n",
              "      <td>38.264218</td>\n",
              "    </tr>\n",
              "    <tr>\n",
              "      <th>...</th>\n",
              "      <td>...</td>\n",
              "      <td>...</td>\n",
              "      <td>...</td>\n",
              "      <td>...</td>\n",
              "      <td>...</td>\n",
              "      <td>...</td>\n",
              "      <td>...</td>\n",
              "      <td>...</td>\n",
              "      <td>...</td>\n",
              "      <td>...</td>\n",
              "      <td>...</td>\n",
              "      <td>...</td>\n",
              "      <td>...</td>\n",
              "      <td>...</td>\n",
              "      <td>...</td>\n",
              "      <td>...</td>\n",
              "      <td>...</td>\n",
              "      <td>...</td>\n",
              "      <td>...</td>\n",
              "      <td>...</td>\n",
              "      <td>...</td>\n",
              "      <td>...</td>\n",
              "      <td>...</td>\n",
              "      <td>...</td>\n",
              "      <td>...</td>\n",
              "      <td>...</td>\n",
              "      <td>...</td>\n",
              "      <td>...</td>\n",
              "      <td>...</td>\n",
              "      <td>...</td>\n",
              "      <td>...</td>\n",
              "      <td>...</td>\n",
              "    </tr>\n",
              "    <tr>\n",
              "      <th>9995</th>\n",
              "      <td>4.115431</td>\n",
              "      <td>7.000837</td>\n",
              "      <td>-9.653089</td>\n",
              "      <td>-7.160725</td>\n",
              "      <td>9.323379</td>\n",
              "      <td>0.008322</td>\n",
              "      <td>8.853850</td>\n",
              "      <td>2.496611</td>\n",
              "      <td>3.815244</td>\n",
              "      <td>0.382697</td>\n",
              "      <td>6.690362</td>\n",
              "      <td>-3.427856</td>\n",
              "      <td>-4.262191</td>\n",
              "      <td>-1.233465</td>\n",
              "      <td>-2.097576</td>\n",
              "      <td>6.860297</td>\n",
              "      <td>-3.083898</td>\n",
              "      <td>-1.410190</td>\n",
              "      <td>-0.426802</td>\n",
              "      <td>-2.115237</td>\n",
              "      <td>2.321582</td>\n",
              "      <td>-6.152592</td>\n",
              "      <td>4.205598</td>\n",
              "      <td>-4.351731</td>\n",
              "      <td>9.674877</td>\n",
              "      <td>-8.252335</td>\n",
              "      <td>6.537963</td>\n",
              "      <td>-1.520673</td>\n",
              "      <td>-7.923699</td>\n",
              "      <td>3.938198</td>\n",
              "      <td>14.001675</td>\n",
              "      <td>21.690991</td>\n",
              "    </tr>\n",
              "    <tr>\n",
              "      <th>9996</th>\n",
              "      <td>8.642016</td>\n",
              "      <td>-10.310443</td>\n",
              "      <td>-4.164195</td>\n",
              "      <td>-0.103425</td>\n",
              "      <td>5.280763</td>\n",
              "      <td>10.100324</td>\n",
              "      <td>10.376776</td>\n",
              "      <td>2.035528</td>\n",
              "      <td>-2.865085</td>\n",
              "      <td>-3.634668</td>\n",
              "      <td>3.175611</td>\n",
              "      <td>3.091032</td>\n",
              "      <td>4.854759</td>\n",
              "      <td>-3.718518</td>\n",
              "      <td>9.154610</td>\n",
              "      <td>7.477065</td>\n",
              "      <td>-5.644479</td>\n",
              "      <td>3.183633</td>\n",
              "      <td>7.624630</td>\n",
              "      <td>-10.160440</td>\n",
              "      <td>-6.843769</td>\n",
              "      <td>9.264963</td>\n",
              "      <td>6.128426</td>\n",
              "      <td>4.705592</td>\n",
              "      <td>9.834965</td>\n",
              "      <td>-6.510483</td>\n",
              "      <td>-8.046730</td>\n",
              "      <td>5.285699</td>\n",
              "      <td>-0.492100</td>\n",
              "      <td>4.496800</td>\n",
              "      <td>-20.620886</td>\n",
              "      <td>24.484000</td>\n",
              "    </tr>\n",
              "    <tr>\n",
              "      <th>9997</th>\n",
              "      <td>2.576362</td>\n",
              "      <td>-2.282850</td>\n",
              "      <td>-1.977706</td>\n",
              "      <td>7.939707</td>\n",
              "      <td>1.760702</td>\n",
              "      <td>-6.222240</td>\n",
              "      <td>3.906714</td>\n",
              "      <td>-4.212861</td>\n",
              "      <td>7.771867</td>\n",
              "      <td>-2.179046</td>\n",
              "      <td>-7.370692</td>\n",
              "      <td>1.098961</td>\n",
              "      <td>-5.226815</td>\n",
              "      <td>-7.994809</td>\n",
              "      <td>-3.480564</td>\n",
              "      <td>1.547576</td>\n",
              "      <td>1.043375</td>\n",
              "      <td>7.676349</td>\n",
              "      <td>2.609321</td>\n",
              "      <td>-8.077446</td>\n",
              "      <td>6.056793</td>\n",
              "      <td>-7.367577</td>\n",
              "      <td>-8.567476</td>\n",
              "      <td>-3.069323</td>\n",
              "      <td>4.276709</td>\n",
              "      <td>-6.563668</td>\n",
              "      <td>-2.562896</td>\n",
              "      <td>10.299857</td>\n",
              "      <td>8.607741</td>\n",
              "      <td>1.419396</td>\n",
              "      <td>-4.565701</td>\n",
              "      <td>9.096982</td>\n",
              "    </tr>\n",
              "    <tr>\n",
              "      <th>9998</th>\n",
              "      <td>5.623216</td>\n",
              "      <td>6.132319</td>\n",
              "      <td>-9.526871</td>\n",
              "      <td>-7.102227</td>\n",
              "      <td>7.470630</td>\n",
              "      <td>1.645184</td>\n",
              "      <td>7.913972</td>\n",
              "      <td>-0.513498</td>\n",
              "      <td>6.165712</td>\n",
              "      <td>-2.734110</td>\n",
              "      <td>7.303640</td>\n",
              "      <td>-0.367817</td>\n",
              "      <td>-4.374165</td>\n",
              "      <td>-1.374892</td>\n",
              "      <td>-1.328014</td>\n",
              "      <td>6.636919</td>\n",
              "      <td>-2.271619</td>\n",
              "      <td>-4.250679</td>\n",
              "      <td>-0.379184</td>\n",
              "      <td>-3.499792</td>\n",
              "      <td>3.763622</td>\n",
              "      <td>-6.828777</td>\n",
              "      <td>4.275611</td>\n",
              "      <td>-3.615921</td>\n",
              "      <td>9.257696</td>\n",
              "      <td>-6.524113</td>\n",
              "      <td>6.213284</td>\n",
              "      <td>-3.265337</td>\n",
              "      <td>-6.691210</td>\n",
              "      <td>4.450119</td>\n",
              "      <td>12.264638</td>\n",
              "      <td>24.250595</td>\n",
              "    </tr>\n",
              "    <tr>\n",
              "      <th>9999</th>\n",
              "      <td>4.645371</td>\n",
              "      <td>6.691490</td>\n",
              "      <td>-10.926293</td>\n",
              "      <td>-7.826910</td>\n",
              "      <td>8.710270</td>\n",
              "      <td>-0.211986</td>\n",
              "      <td>9.835527</td>\n",
              "      <td>1.364481</td>\n",
              "      <td>5.363017</td>\n",
              "      <td>-0.433442</td>\n",
              "      <td>7.858837</td>\n",
              "      <td>-1.915288</td>\n",
              "      <td>-6.629440</td>\n",
              "      <td>-1.525908</td>\n",
              "      <td>-2.774851</td>\n",
              "      <td>6.962517</td>\n",
              "      <td>-4.101389</td>\n",
              "      <td>-2.814359</td>\n",
              "      <td>-2.065148</td>\n",
              "      <td>-3.282049</td>\n",
              "      <td>3.486079</td>\n",
              "      <td>-5.526629</td>\n",
              "      <td>3.787922</td>\n",
              "      <td>-5.528968</td>\n",
              "      <td>8.101658</td>\n",
              "      <td>-9.221054</td>\n",
              "      <td>7.350431</td>\n",
              "      <td>-2.093218</td>\n",
              "      <td>-8.912812</td>\n",
              "      <td>5.503867</td>\n",
              "      <td>13.382980</td>\n",
              "      <td>29.519334</td>\n",
              "    </tr>\n",
              "  </tbody>\n",
              "</table>\n",
              "<p>10000 rows × 32 columns</p>\n",
              "</div>"
            ],
            "text/plain": [
              "            0          1          2   ...        29         30         31\n",
              "0     5.779841   9.590162   7.580040  ...  2.942146  19.180325  16.710729\n",
              "1    -1.969309  -5.779929  -0.479035  ...  7.465699 -11.559858  39.328496\n",
              "2     3.599102   3.524340  -6.054480  ...  2.749403   7.048680  15.747013\n",
              "3     2.610732   2.268904  -4.365511  ...  0.589666   4.537807   4.948332\n",
              "4     1.229763   6.218683   6.069170  ...  7.252844  12.437365  38.264218\n",
              "...        ...        ...        ...  ...       ...        ...        ...\n",
              "9995  4.115431   7.000837  -9.653089  ...  3.938198  14.001675  21.690991\n",
              "9996  8.642016 -10.310443  -4.164195  ...  4.496800 -20.620886  24.484000\n",
              "9997  2.576362  -2.282850  -1.977706  ...  1.419396  -4.565701   9.096982\n",
              "9998  5.623216   6.132319  -9.526871  ...  4.450119  12.264638  24.250595\n",
              "9999  4.645371   6.691490 -10.926293  ...  5.503867  13.382980  29.519334\n",
              "\n",
              "[10000 rows x 32 columns]"
            ]
          },
          "metadata": {
            "tags": []
          },
          "execution_count": 6
        }
      ]
    },
    {
      "cell_type": "code",
      "metadata": {
        "id": "jUARadkFEuyJ",
        "colab": {
          "base_uri": "https://localhost:8080/"
        },
        "outputId": "69149b9f-7f1c-430d-82b2-2315c12f1df9"
      },
      "source": [
        "Data.shape #ดูว่าข้อมูลมีกี่แถวกี่คอลัมม์ ดูขนาดของข้อมูลที่นำเข้ามา"
      ],
      "execution_count": 7,
      "outputs": [
        {
          "output_type": "execute_result",
          "data": {
            "text/plain": [
              "(10000, 32)"
            ]
          },
          "metadata": {
            "tags": []
          },
          "execution_count": 7
        }
      ]
    },
    {
      "cell_type": "markdown",
      "metadata": {
        "id": "6Mh-Tk9LlSwS"
      },
      "source": [
        "### Import"
      ]
    },
    {
      "cell_type": "code",
      "metadata": {
        "id": "2yslxVspk5TM"
      },
      "source": [
        "from sklearn.cluster import KMeans #นำข้อมูลเข้ามาในขั้นตอนนี้"
      ],
      "execution_count": 8,
      "outputs": []
    },
    {
      "cell_type": "markdown",
      "metadata": {
        "id": "oogCyTRvlXnr"
      },
      "source": [
        "### Difine"
      ]
    },
    {
      "cell_type": "code",
      "metadata": {
        "id": "Z_YmQk-llYX8"
      },
      "source": [
        "kmeans = KMeans(random_state=2021) #เป็นคำสั่งกำหนดค่า K แต้ในที่นี้คือค่า K ที่เป็น Default เรายังไม่กำหนด"
      ],
      "execution_count": 9,
      "outputs": []
    },
    {
      "cell_type": "markdown",
      "metadata": {
        "id": "eh2j2sVLli7L"
      },
      "source": [
        "### Fit- transform "
      ]
    },
    {
      "cell_type": "markdown",
      "metadata": {
        "id": "k9ME6jsZll4T"
      },
      "source": [
        "#### คำนวณจุด cluter centers ของข้อมูล example_df_drop ด้วยวิธี K-means clustering"
      ]
    },
    {
      "cell_type": "code",
      "metadata": {
        "id": "jfPnnReSljk6",
        "colab": {
          "base_uri": "https://localhost:8080/"
        },
        "outputId": "15a59e81-86a6-47a8-9aad-9bd46d8eb17d"
      },
      "source": [
        "kmeans.fit(Data)"
      ],
      "execution_count": 10,
      "outputs": [
        {
          "output_type": "execute_result",
          "data": {
            "text/plain": [
              "KMeans(algorithm='auto', copy_x=True, init='k-means++', max_iter=300,\n",
              "       n_clusters=8, n_init=10, n_jobs=None, precompute_distances='auto',\n",
              "       random_state=2021, tol=0.0001, verbose=0)"
            ]
          },
          "metadata": {
            "tags": []
          },
          "execution_count": 10
        }
      ]
    },
    {
      "cell_type": "markdown",
      "metadata": {
        "id": "rPEqvDlWl5Ob"
      },
      "source": [
        "### แสดงจุด cluster centers ที่คำนวณออกมาได้"
      ]
    },
    {
      "cell_type": "code",
      "metadata": {
        "id": "VmnfjwPml59D",
        "colab": {
          "base_uri": "https://localhost:8080/"
        },
        "outputId": "5b6ffef2-6407-402a-f8f8-3f5cceaab4ce"
      },
      "source": [
        "kmeans.cluster_centers_"
      ],
      "execution_count": 11,
      "outputs": [
        {
          "output_type": "execute_result",
          "data": {
            "text/plain": [
              "array([[ 2.68465309e+00,  5.51281836e+00,  1.59377799e+00,\n",
              "        -1.14098972e+00, -1.96321082e+00,  1.74906213e+00,\n",
              "        -2.92547218e+00,  3.21082773e-01, -7.86961544e-01,\n",
              "        -4.97237840e+00, -1.00286744e+00,  2.73316601e+00,\n",
              "         9.96214564e-01,  2.42519924e+00,  3.65427957e-01,\n",
              "        -3.81964919e+00, -7.21604655e+00,  3.49292498e+00,\n",
              "         6.24430114e-01, -5.86822571e+00,  5.92854052e+00,\n",
              "         3.57690327e+00,  3.41999915e+00, -1.50558073e-01,\n",
              "         5.58089454e+00,  8.29768864e-01,  2.99271943e+00,\n",
              "         4.86660992e+00, -1.14473884e+00,  9.69344807e-02,\n",
              "         1.10256367e+01,  2.48467240e+00],\n",
              "       [ 4.81312383e+00, -7.13526097e+00, -3.80883929e+00,\n",
              "         1.34899279e+00,  4.99552690e+00,  9.41670956e+00,\n",
              "         5.96973041e+00,  8.03495698e-01, -4.28205996e+00,\n",
              "        -5.63031415e-01,  1.02225355e+00, -1.86353837e-01,\n",
              "         3.53121455e+00,  2.77303843e+00,  6.18565004e+00,\n",
              "         3.71192715e+00, -9.26798331e-01,  5.98123956e+00,\n",
              "         7.09309317e+00, -2.07949493e+00, -6.14410957e+00,\n",
              "         2.59929500e+00,  7.50546927e+00,  2.52207707e+00,\n",
              "         2.85896790e+00, -1.30731376e+00, -2.02372662e+00,\n",
              "         5.16906225e+00, -8.12805551e-01,  7.12300937e+00,\n",
              "        -1.42705219e+01,  3.76150469e+01],\n",
              "       [-2.20654530e+00, -2.71520989e+00, -5.25655755e+00,\n",
              "         8.73152609e+00,  3.54059876e+00, -3.81382963e+00,\n",
              "         2.16209305e+00,  3.27375767e+00,  5.31289425e+00,\n",
              "         1.81483001e+00, -1.66088912e+00,  1.30552043e+00,\n",
              "         1.98654695e-01, -4.96147042e-01, -6.74612972e+00,\n",
              "         3.86215556e-01,  2.42550227e+00, -1.16053309e-01,\n",
              "         3.03964493e+00, -1.95416182e+00,  5.65719443e-01,\n",
              "        -4.30300249e+00, -2.07160672e+00, -1.31274482e+00,\n",
              "        -5.49598600e-01, -3.59699358e+00, -4.81467990e+00,\n",
              "         2.19224861e+00,  5.29228711e+00,  2.65470938e+00,\n",
              "        -5.43041979e+00,  1.52735469e+01],\n",
              "       [-5.17455588e+00,  4.63943221e+00, -3.58502424e+00,\n",
              "        -6.34412720e+00,  1.36017695e-01, -5.24607199e-01,\n",
              "        -5.34796908e+00, -6.98316353e+00, -5.63979716e+00,\n",
              "         6.54583672e+00, -2.49554260e+00, -3.76723333e-01,\n",
              "         1.52643596e+00,  1.76242093e+00, -1.52019157e+00,\n",
              "         2.69437993e+00,  6.31763543e+00,  3.65433830e+00,\n",
              "        -9.11019074e+00,  1.46597803e+00,  6.34496892e+00,\n",
              "        -5.45534056e-01,  5.12176313e-02,  1.36419787e+00,\n",
              "         3.28280588e+00, -5.50013226e+00, -1.88787064e+00,\n",
              "         1.82253433e+00,  7.36642560e+00, -8.17814678e+00,\n",
              "         9.27886441e+00, -3.88907339e+01],\n",
              "       [ 1.39369933e-01, -9.25556758e+00,  4.16953873e+00,\n",
              "         2.43055360e+00,  5.59929716e+00, -7.97831611e-01,\n",
              "        -2.34708452e+00, -4.13318816e+00,  1.15214293e+00,\n",
              "        -8.38671715e+00,  2.66842518e+00,  8.86054537e+00,\n",
              "         7.91370491e+00,  7.57670024e+00, -3.07877474e+00,\n",
              "         4.14666835e+00,  5.25158309e-01,  3.15500174e+00,\n",
              "        -4.63206804e+00,  2.13812890e+00, -9.01601980e+00,\n",
              "         3.89922099e+00, -3.93908874e+00, -6.65598202e+00,\n",
              "        -3.39278386e+00, -6.66020481e+00,  8.27822913e+00,\n",
              "        -4.34192487e+00, -7.84861947e+00, -7.71558455e+00,\n",
              "        -1.85111352e+01, -3.65779228e+01],\n",
              "       [ 1.11882662e+00,  5.70180421e+00,  6.53003575e+00,\n",
              "         6.39473900e+00, -8.86661473e+00,  7.82567735e+00,\n",
              "         9.01234128e+00, -5.56792339e+00,  5.49501630e+00,\n",
              "        -1.68377145e+00, -6.48035348e-01,  3.57381645e+00,\n",
              "         8.65973072e+00,  7.13283981e+00,  9.17174393e+00,\n",
              "         2.72648675e+00, -8.66468619e+00,  7.42393841e+00,\n",
              "        -2.78598559e+00,  2.82037774e+00,  8.09746007e+00,\n",
              "         1.99539655e-01,  7.21285145e+00,  9.99636702e+00,\n",
              "         9.95869971e+00, -4.01876461e+00, -4.97001017e+00,\n",
              "        -5.63391597e+00, -6.88945047e-01,  7.54750904e+00,\n",
              "         1.14036084e+01,  3.97375452e+01],\n",
              "       [-1.25182865e+00, -5.65001606e+00, -6.68718408e-02,\n",
              "         8.50882576e+00, -7.81497996e+00, -2.23833374e+00,\n",
              "        -2.01320337e+00, -3.83564590e+00, -8.83057807e+00,\n",
              "        -5.81961498e+00,  8.69328610e+00, -5.21878630e+00,\n",
              "        -9.79833541e+00, -1.51864355e+00,  2.42746308e+00,\n",
              "        -2.81570858e+00,  9.21235044e+00, -7.02651140e+00,\n",
              "         9.01830422e+00, -4.02409145e-01,  6.16003667e+00,\n",
              "         2.64773454e+00, -6.42987464e+00, -9.20427494e+00,\n",
              "         8.89063792e+00,  7.83350453e+00,  4.63756584e+00,\n",
              "        -7.92847926e-01, -1.62668788e+00,  6.79325353e+00,\n",
              "        -1.13000321e+01,  3.59662676e+01],\n",
              "       [ 5.09205490e+00,  7.97573078e+00, -1.40632115e+00,\n",
              "        -6.56781348e+00,  1.31460514e+00, -1.75757522e+00,\n",
              "         9.05694681e+00,  2.21984798e+00,  6.79369856e+00,\n",
              "        -5.63796542e+00,  5.90341391e+00, -6.08704321e+00,\n",
              "        -6.01661765e+00, -5.62389416e+00, -3.96578763e+00,\n",
              "         1.72787572e+00,  3.33850219e+00,  2.78285833e+00,\n",
              "         2.26062014e-02,  2.41072522e+00, -3.06053172e+00,\n",
              "        -5.45659315e-01, -1.91960865e+00, -5.70292766e+00,\n",
              "         8.94619242e+00, -6.07156232e+00,  6.11140606e+00,\n",
              "        -1.19390876e+00, -2.14049082e+00,  4.23902229e+00,\n",
              "         1.59514616e+01,  2.31951115e+01]])"
            ]
          },
          "metadata": {
            "tags": []
          },
          "execution_count": 11
        }
      ]
    },
    {
      "cell_type": "markdown",
      "metadata": {
        "id": "DMWOG5CgmFxD"
      },
      "source": [
        "### ทดสอบการจัดกลุ่มของ Data "
      ]
    },
    {
      "cell_type": "code",
      "metadata": {
        "id": "1L6rIcWYmGdj",
        "colab": {
          "base_uri": "https://localhost:8080/"
        },
        "outputId": "5204b074-73d0-4157-89ac-f862da3ac1f6"
      },
      "source": [
        "y = kmeans.predict(Data)\n",
        "y"
      ],
      "execution_count": 12,
      "outputs": [
        {
          "output_type": "execute_result",
          "data": {
            "text/plain": [
              "array([7, 6, 0, ..., 2, 7, 7], dtype=int32)"
            ]
          },
          "metadata": {
            "tags": []
          },
          "execution_count": 12
        }
      ]
    },
    {
      "cell_type": "markdown",
      "metadata": {
        "id": "I_mZX_TBmKm0"
      },
      "source": [
        "### PCA"
      ]
    },
    {
      "cell_type": "code",
      "metadata": {
        "id": "UbmUFzLtmQMb"
      },
      "source": [
        "from sklearn.decomposition import PCA\n",
        "\n",
        "pca = PCA(n_components=2)\n",
        "\n",
        "new_pca = pca.fit_transform(Data)"
      ],
      "execution_count": 13,
      "outputs": []
    },
    {
      "cell_type": "code",
      "metadata": {
        "id": "FRyno2remXIj"
      },
      "source": [
        "from matplotlib import pyplot as plt"
      ],
      "execution_count": 14,
      "outputs": []
    },
    {
      "cell_type": "code",
      "metadata": {
        "id": "ZrRLhakFmgj0",
        "colab": {
          "base_uri": "https://localhost:8080/",
          "height": 282
        },
        "outputId": "304147ea-8adc-4c7d-8e58-7ea0a902e2bd"
      },
      "source": [
        "kmeans = KMeans(random_state=2021)\n",
        "kmeans.fit(Data)\n",
        "y = kmeans.predict(Data)\n",
        "plt.scatter(new_pca[:,0],new_pca[:,1],c=y)"
      ],
      "execution_count": 15,
      "outputs": [
        {
          "output_type": "execute_result",
          "data": {
            "text/plain": [
              "<matplotlib.collections.PathCollection at 0x7f95af2c8d90>"
            ]
          },
          "metadata": {
            "tags": []
          },
          "execution_count": 15
        },
        {
          "output_type": "display_data",
          "data": {
            "image/png": "[encoded data removed]",
            "text/plain": [
              "<Figure size 432x288 with 1 Axes>"
            ]
          },
          "metadata": {
            "tags": [],
            "needs_background": "light"
          }
        }
      ]
    },
    {
      "cell_type": "markdown",
      "metadata": {
        "id": "8HJiOj8vnGH9"
      },
      "source": [
        "### SSE"
      ]
    },
    {
      "cell_type": "code",
      "metadata": {
        "id": "_8CllWXUm2qT"
      },
      "source": [
        "kmeans = KMeans(random_state=2021)\n",
        "kmeans.fit(Data)\n",
        "y = kmeans.predict(Data)"
      ],
      "execution_count": 16,
      "outputs": []
    },
    {
      "cell_type": "code",
      "metadata": {
        "id": "cn4zUwDMnP_k",
        "colab": {
          "base_uri": "https://localhost:8080/"
        },
        "outputId": "da0f2b79-b5db-45b9-cdaf-e623f4d03592"
      },
      "source": [
        "kmeans.cluster_centers_"
      ],
      "execution_count": 17,
      "outputs": [
        {
          "output_type": "execute_result",
          "data": {
            "text/plain": [
              "array([[ 2.68465309e+00,  5.51281836e+00,  1.59377799e+00,\n",
              "        -1.14098972e+00, -1.96321082e+00,  1.74906213e+00,\n",
              "        -2.92547218e+00,  3.21082773e-01, -7.86961544e-01,\n",
              "        -4.97237840e+00, -1.00286744e+00,  2.73316601e+00,\n",
              "         9.96214564e-01,  2.42519924e+00,  3.65427957e-01,\n",
              "        -3.81964919e+00, -7.21604655e+00,  3.49292498e+00,\n",
              "         6.24430114e-01, -5.86822571e+00,  5.92854052e+00,\n",
              "         3.57690327e+00,  3.41999915e+00, -1.50558073e-01,\n",
              "         5.58089454e+00,  8.29768864e-01,  2.99271943e+00,\n",
              "         4.86660992e+00, -1.14473884e+00,  9.69344807e-02,\n",
              "         1.10256367e+01,  2.48467240e+00],\n",
              "       [ 4.81312383e+00, -7.13526097e+00, -3.80883929e+00,\n",
              "         1.34899279e+00,  4.99552690e+00,  9.41670956e+00,\n",
              "         5.96973041e+00,  8.03495698e-01, -4.28205996e+00,\n",
              "        -5.63031415e-01,  1.02225355e+00, -1.86353837e-01,\n",
              "         3.53121455e+00,  2.77303843e+00,  6.18565004e+00,\n",
              "         3.71192715e+00, -9.26798331e-01,  5.98123956e+00,\n",
              "         7.09309317e+00, -2.07949493e+00, -6.14410957e+00,\n",
              "         2.59929500e+00,  7.50546927e+00,  2.52207707e+00,\n",
              "         2.85896790e+00, -1.30731376e+00, -2.02372662e+00,\n",
              "         5.16906225e+00, -8.12805551e-01,  7.12300937e+00,\n",
              "        -1.42705219e+01,  3.76150469e+01],\n",
              "       [-2.20654530e+00, -2.71520989e+00, -5.25655755e+00,\n",
              "         8.73152609e+00,  3.54059876e+00, -3.81382963e+00,\n",
              "         2.16209305e+00,  3.27375767e+00,  5.31289425e+00,\n",
              "         1.81483001e+00, -1.66088912e+00,  1.30552043e+00,\n",
              "         1.98654695e-01, -4.96147042e-01, -6.74612972e+00,\n",
              "         3.86215556e-01,  2.42550227e+00, -1.16053309e-01,\n",
              "         3.03964493e+00, -1.95416182e+00,  5.65719443e-01,\n",
              "        -4.30300249e+00, -2.07160672e+00, -1.31274482e+00,\n",
              "        -5.49598600e-01, -3.59699358e+00, -4.81467990e+00,\n",
              "         2.19224861e+00,  5.29228711e+00,  2.65470938e+00,\n",
              "        -5.43041979e+00,  1.52735469e+01],\n",
              "       [-5.17455588e+00,  4.63943221e+00, -3.58502424e+00,\n",
              "        -6.34412720e+00,  1.36017695e-01, -5.24607199e-01,\n",
              "        -5.34796908e+00, -6.98316353e+00, -5.63979716e+00,\n",
              "         6.54583672e+00, -2.49554260e+00, -3.76723333e-01,\n",
              "         1.52643596e+00,  1.76242093e+00, -1.52019157e+00,\n",
              "         2.69437993e+00,  6.31763543e+00,  3.65433830e+00,\n",
              "        -9.11019074e+00,  1.46597803e+00,  6.34496892e+00,\n",
              "        -5.45534056e-01,  5.12176313e-02,  1.36419787e+00,\n",
              "         3.28280588e+00, -5.50013226e+00, -1.88787064e+00,\n",
              "         1.82253433e+00,  7.36642560e+00, -8.17814678e+00,\n",
              "         9.27886441e+00, -3.88907339e+01],\n",
              "       [ 1.39369933e-01, -9.25556758e+00,  4.16953873e+00,\n",
              "         2.43055360e+00,  5.59929716e+00, -7.97831611e-01,\n",
              "        -2.34708452e+00, -4.13318816e+00,  1.15214293e+00,\n",
              "        -8.38671715e+00,  2.66842518e+00,  8.86054537e+00,\n",
              "         7.91370491e+00,  7.57670024e+00, -3.07877474e+00,\n",
              "         4.14666835e+00,  5.25158309e-01,  3.15500174e+00,\n",
              "        -4.63206804e+00,  2.13812890e+00, -9.01601980e+00,\n",
              "         3.89922099e+00, -3.93908874e+00, -6.65598202e+00,\n",
              "        -3.39278386e+00, -6.66020481e+00,  8.27822913e+00,\n",
              "        -4.34192487e+00, -7.84861947e+00, -7.71558455e+00,\n",
              "        -1.85111352e+01, -3.65779228e+01],\n",
              "       [ 1.11882662e+00,  5.70180421e+00,  6.53003575e+00,\n",
              "         6.39473900e+00, -8.86661473e+00,  7.82567735e+00,\n",
              "         9.01234128e+00, -5.56792339e+00,  5.49501630e+00,\n",
              "        -1.68377145e+00, -6.48035348e-01,  3.57381645e+00,\n",
              "         8.65973072e+00,  7.13283981e+00,  9.17174393e+00,\n",
              "         2.72648675e+00, -8.66468619e+00,  7.42393841e+00,\n",
              "        -2.78598559e+00,  2.82037774e+00,  8.09746007e+00,\n",
              "         1.99539655e-01,  7.21285145e+00,  9.99636702e+00,\n",
              "         9.95869971e+00, -4.01876461e+00, -4.97001017e+00,\n",
              "        -5.63391597e+00, -6.88945047e-01,  7.54750904e+00,\n",
              "         1.14036084e+01,  3.97375452e+01],\n",
              "       [-1.25182865e+00, -5.65001606e+00, -6.68718408e-02,\n",
              "         8.50882576e+00, -7.81497996e+00, -2.23833374e+00,\n",
              "        -2.01320337e+00, -3.83564590e+00, -8.83057807e+00,\n",
              "        -5.81961498e+00,  8.69328610e+00, -5.21878630e+00,\n",
              "        -9.79833541e+00, -1.51864355e+00,  2.42746308e+00,\n",
              "        -2.81570858e+00,  9.21235044e+00, -7.02651140e+00,\n",
              "         9.01830422e+00, -4.02409145e-01,  6.16003667e+00,\n",
              "         2.64773454e+00, -6.42987464e+00, -9.20427494e+00,\n",
              "         8.89063792e+00,  7.83350453e+00,  4.63756584e+00,\n",
              "        -7.92847926e-01, -1.62668788e+00,  6.79325353e+00,\n",
              "        -1.13000321e+01,  3.59662676e+01],\n",
              "       [ 5.09205490e+00,  7.97573078e+00, -1.40632115e+00,\n",
              "        -6.56781348e+00,  1.31460514e+00, -1.75757522e+00,\n",
              "         9.05694681e+00,  2.21984798e+00,  6.79369856e+00,\n",
              "        -5.63796542e+00,  5.90341391e+00, -6.08704321e+00,\n",
              "        -6.01661765e+00, -5.62389416e+00, -3.96578763e+00,\n",
              "         1.72787572e+00,  3.33850219e+00,  2.78285833e+00,\n",
              "         2.26062014e-02,  2.41072522e+00, -3.06053172e+00,\n",
              "        -5.45659315e-01, -1.91960865e+00, -5.70292766e+00,\n",
              "         8.94619242e+00, -6.07156232e+00,  6.11140606e+00,\n",
              "        -1.19390876e+00, -2.14049082e+00,  4.23902229e+00,\n",
              "         1.59514616e+01,  2.31951115e+01]])"
            ]
          },
          "metadata": {
            "tags": []
          },
          "execution_count": 17
        }
      ]
    },
    {
      "cell_type": "code",
      "metadata": {
        "id": "M6dVJRqynRiC"
      },
      "source": [
        "new_cluster_center = pca.transform(kmeans.cluster_centers_)\n",
        "new_data_pca = pca.transform(Data)"
      ],
      "execution_count": 18,
      "outputs": []
    },
    {
      "cell_type": "code",
      "metadata": {
        "id": "A6Ah_wZ5nXsi",
        "colab": {
          "base_uri": "https://localhost:8080/"
        },
        "outputId": "488a0cdd-e3c4-4205-e52b-41813db5f356"
      },
      "source": [
        "new_cluster_center"
      ],
      "execution_count": 19,
      "outputs": [
        {
          "output_type": "execute_result",
          "data": {
            "text/plain": [
              "array([[  7.57128318, -11.66329841],\n",
              "       [-31.37770103,  17.4383376 ],\n",
              "       [ -6.13388702,   8.53849882],\n",
              "       [ 53.20325191,  -7.14255305],\n",
              "       [ 46.45321516,  26.92726675],\n",
              "       [-30.41762608, -16.75314035],\n",
              "       [-28.98100198,   8.15666248],\n",
              "       [-13.75679777, -20.59372891]])"
            ]
          },
          "metadata": {
            "tags": []
          },
          "execution_count": 19
        }
      ]
    },
    {
      "cell_type": "markdown",
      "metadata": {
        "id": "Ubf_pWWbnhYz"
      },
      "source": [
        "## ค่า K ควรจะเป็นเท่าไหร่"
      ]
    },
    {
      "cell_type": "markdown",
      "metadata": {
        "id": "IEXZrV5XnkOU"
      },
      "source": [
        "### Elbow Method"
      ]
    },
    {
      "cell_type": "code",
      "metadata": {
        "id": "I544hVt8niFC",
        "colab": {
          "base_uri": "https://localhost:8080/"
        },
        "outputId": "66845b0c-1867-48b5-de0a-b06ac46bfac8"
      },
      "source": [
        "kmeans.inertia_ # SSE (Sum of squared Errors)"
      ],
      "execution_count": 20,
      "outputs": [
        {
          "output_type": "execute_result",
          "data": {
            "text/plain": [
              "4633939.742169999"
            ]
          },
          "metadata": {
            "tags": []
          },
          "execution_count": 20
        }
      ]
    },
    {
      "cell_type": "code",
      "metadata": {
        "id": "rBoOyghMnqlT"
      },
      "source": [
        "SSE = list()\n",
        "for k in [1,2,3,4,5,6,7,8]:\n",
        "    kmeans = KMeans(n_clusters = k , random_state = 2021)\n",
        "    XX = kmeans.fit(Data)\n",
        "    SSE.append(kmeans.inertia_)"
      ],
      "execution_count": 21,
      "outputs": []
    },
    {
      "cell_type": "code",
      "metadata": {
        "id": "V3ElH-Ojn1DL",
        "colab": {
          "base_uri": "https://localhost:8080/"
        },
        "outputId": "f31ff602-771b-4dab-d464-b6a37ba2b023"
      },
      "source": [
        "SSE"
      ],
      "execution_count": 22,
      "outputs": [
        {
          "output_type": "execute_result",
          "data": {
            "text/plain": [
              "[19492074.617149524,\n",
              " 12287226.791411135,\n",
              " 10192922.646103252,\n",
              " 8882237.446246957,\n",
              " 7776083.319813388,\n",
              " 6741366.527387712,\n",
              " 5648010.760576062,\n",
              " 4633939.742169999]"
            ]
          },
          "metadata": {
            "tags": []
          },
          "execution_count": 22
        }
      ]
    },
    {
      "cell_type": "code",
      "metadata": {
        "id": "uKhomL9kn7iK",
        "colab": {
          "base_uri": "https://localhost:8080/",
          "height": 293
        },
        "outputId": "108831be-72cc-4731-a316-168e10c2080c"
      },
      "source": [
        "plt.plot([1,2,3,4,5,6,7,8],SSE,'o-b') #จากกราฟจะเห็นได้ว่าค่า K = 3 เพราะมีการเปลี่ยนแปลงของข้อมูลทำให้เราทราบว่ากราฟดังกล่าวมีค่า K = 3"
      ],
      "execution_count": 23,
      "outputs": [
        {
          "output_type": "execute_result",
          "data": {
            "text/plain": [
              "[<matplotlib.lines.Line2D at 0x7f95b957ef50>]"
            ]
          },
          "metadata": {
            "tags": []
          },
          "execution_count": 23
        },
        {
          "output_type": "display_data",
          "data": {
            "image/png": "[encoded data removed]",
            "text/plain": [
              "<Figure size 432x288 with 1 Axes>"
            ]
          },
          "metadata": {
            "tags": [],
            "needs_background": "light"
          }
        }
      ]
    },
    {
      "cell_type": "markdown",
      "metadata": {
        "id": "ugD8HeA9oUSL"
      },
      "source": [
        "### The silhouette coefficient"
      ]
    },
    {
      "cell_type": "code",
      "metadata": {
        "id": "UbA8MRIpoVPD"
      },
      "source": [
        "from sklearn import metrics"
      ],
      "execution_count": 24,
      "outputs": []
    },
    {
      "cell_type": "code",
      "metadata": {
        "id": "ewT6Z7SfoZwq"
      },
      "source": [
        "SilH = list()\n",
        "for k in [2,3,4,5,6,7,8]:\n",
        "    kmeans = KMeans(n_clusters=k, random_state=2021)\n",
        "    kmeans.fit(Data)\n",
        "    score = metrics.silhouette_score(Data,kmeans.labels_)\n",
        "    SilH.append(score)"
      ],
      "execution_count": 25,
      "outputs": []
    },
    {
      "cell_type": "code",
      "metadata": {
        "id": "dxcnX7jAolNb",
        "colab": {
          "base_uri": "https://localhost:8080/",
          "height": 280
        },
        "outputId": "3e0205b8-35c1-487a-d15f-ac36125dfee1"
      },
      "source": [
        "plt.plot([2,3,4,5,6,7,8],SilH,'o-g')\n",
        "plt.xlabel('k')\n",
        "plt.ylabel('Silhouette Score');\n",
        "\n",
        "# จากกราฟที่ได้จะเห็นว่าข้อมูลแบ่งออกได้ 3 กลุ่ม"
      ],
      "execution_count": 26,
      "outputs": [
        {
          "output_type": "display_data",
          "data": {
            "image/png": "[encoded data removed]",
            "text/plain": [
              "<Figure size 432x288 with 1 Axes>"
            ]
          },
          "metadata": {
            "tags": [],
            "needs_background": "light"
          }
        }
      ]
    },
    {
      "cell_type": "code",
      "metadata": {
        "id": "jQucdr5usivK",
        "colab": {
          "base_uri": "https://localhost:8080/",
          "height": 282
        },
        "outputId": "f333840e-fa5f-411b-aab0-4b9371dd3b7d"
      },
      "source": [
        "kmeans = KMeans(n_clusters=3, random_state=2021)\n",
        "kmeans.fit(Data)\n",
        "y = kmeans.predict(Data)\n",
        "plt.scatter(new_pca[:,0],new_pca[:,1],c=y,alpha=0.4)\n",
        "\n",
        "# เมื่อกำหนดให้ค่า K = 3 ที่ได้จากการดูกราฟด้านบน ทำให้เห็นผลลัพธ์ของค่าข้อมูลที่ทับซ้อนกันจะมีสีเข้ม"
      ],
      "execution_count": 27,
      "outputs": [
        {
          "output_type": "execute_result",
          "data": {
            "text/plain": [
              "<matplotlib.collections.PathCollection at 0x7f95aed5e990>"
            ]
          },
          "metadata": {
            "tags": []
          },
          "execution_count": 27
        },
        {
          "output_type": "display_data",
          "data": {
            "image/png": "[encoded data removed]",
            "text/plain": [
              "<Figure size 432x288 with 1 Axes>"
            ]
          },
          "metadata": {
            "tags": [],
            "needs_background": "light"
          }
        }
      ]
    },
    {
      "cell_type": "markdown",
      "metadata": {
        "id": "UDRDF0NGxBgB"
      },
      "source": [
        "### ลด Dimension ของข้อมูล"
      ]
    },
    {
      "cell_type": "code",
      "metadata": {
        "id": "lVXXts3gxAPz"
      },
      "source": [
        "corr = np.corrcoef(Data.to_numpy().T)"
      ],
      "execution_count": 28,
      "outputs": []
    },
    {
      "cell_type": "code",
      "metadata": {
        "id": "m1f6mMHRxD0i",
        "colab": {
          "base_uri": "https://localhost:8080/"
        },
        "outputId": "cabc483a-3d62-4984-ce4d-94a4e7a7317c"
      },
      "source": [
        "corr.shape"
      ],
      "execution_count": 29,
      "outputs": [
        {
          "output_type": "execute_result",
          "data": {
            "text/plain": [
              "(32, 32)"
            ]
          },
          "metadata": {
            "tags": []
          },
          "execution_count": 29
        }
      ]
    },
    {
      "cell_type": "code",
      "metadata": {
        "id": "43pWWHgYxG8S",
        "colab": {
          "base_uri": "https://localhost:8080/"
        },
        "outputId": "2efbb2f3-36cb-4883-cb33-0887e4493f77"
      },
      "source": [
        "corr"
      ],
      "execution_count": 30,
      "outputs": [
        {
          "output_type": "execute_result",
          "data": {
            "text/plain": [
              "array([[ 1.        , -0.03522889,  0.06557524, ...,  0.41074998,\n",
              "        -0.03522889,  0.41074998],\n",
              "       [-0.03522889,  1.        ,  0.26280354, ..., -0.10765056,\n",
              "         1.        , -0.10765056],\n",
              "       [ 0.06557524,  0.26280354,  1.        , ..., -0.01992461,\n",
              "         0.26280354, -0.01992461],\n",
              "       ...,\n",
              "       [ 0.41074998, -0.10765056, -0.01992461, ...,  1.        ,\n",
              "        -0.10765056,  1.        ],\n",
              "       [-0.03522889,  1.        ,  0.26280354, ..., -0.10765056,\n",
              "         1.        , -0.10765056],\n",
              "       [ 0.41074998, -0.10765056, -0.01992461, ...,  1.        ,\n",
              "        -0.10765056,  1.        ]])"
            ]
          },
          "metadata": {
            "tags": []
          },
          "execution_count": 30
        }
      ]
    },
    {
      "cell_type": "code",
      "metadata": {
        "id": "eWzKvTfvxKV5"
      },
      "source": [
        "for i in range(corr.shape[0]):\n",
        "    for j in range(corr.shape[1]):\n",
        "        if (i !=j) and (corr[i,j] == 1.):\n",
        "            print(f'row = {i} column = {j} corrcoef = {corr[i,j]}') \n",
        "\n",
        "            # สรุป จากการรันจะพบว่า ไม่มีข้อมูลใดที่มีความสัมพันธ์กัน หรือ มี Correlation = 1 เนื่องจากรันแล้วไม่มีการเกิดผลลัพธ์ใด ๆ ออกมา จึงทำให้ทราบว่าข้อมูลไม่มีความสัมพันธ์กัน"
      ],
      "execution_count": 31,
      "outputs": []
    },
    {
      "cell_type": "markdown",
      "metadata": {
        "id": "p_Ye7LvX8OI_"
      },
      "source": [
        "### ทำ MDS"
      ]
    },
    {
      "cell_type": "code",
      "metadata": {
        "id": "AynxOzC18REv"
      },
      "source": [
        "from sklearn.manifold import MDS"
      ],
      "execution_count": 37,
      "outputs": []
    },
    {
      "cell_type": "code",
      "metadata": {
        "id": "Kuduqw4a8TGR"
      },
      "source": [
        "mds = MDS(n_components=2)"
      ],
      "execution_count": 32,
      "outputs": []
    },
    {
      "cell_type": "code",
      "metadata": {
        "id": "hEE2KC4z8fe3"
      },
      "source": [
        "new_mds = mds.fit_transform(Data)"
      ],
      "execution_count": 33,
      "outputs": []
    },
    {
      "cell_type": "code",
      "metadata": {
        "id": "Ez_KK7DUFux2"
      },
      "source": [
        "kmeans1 = KMeans(n_clusters=3,random_state=2021)\n",
        "kmeans1.fit(Data)\n",
        "a = kmeans2.predict(Data)"
      ],
      "execution_count": 41,
      "outputs": []
    },
    {
      "cell_type": "code",
      "metadata": {
        "colab": {
          "base_uri": "https://localhost:8080/",
          "height": 298
        },
        "id": "PIWxxp3kFxpA",
        "outputId": "34349bd4-0fa6-47ea-f605-d6e4cc0d001d"
      },
      "source": [
        "plt.scatter(new_mds[:,0],new_mds[:,1],c=a,alpha=0.4)\n",
        "plt.title('DataGenerator') "
      ],
      "execution_count": 42,
      "outputs": [
        {
          "output_type": "execute_result",
          "data": {
            "text/plain": [
              "Text(0.5, 1.0, 'DataGenerator')"
            ]
          },
          "metadata": {
            "tags": []
          },
          "execution_count": 42
        },
        {
          "output_type": "display_data",
          "data": {
            "image/png": "[encoded data removed]",
            "text/plain": [
              "<Figure size 432x288 with 1 Axes>"
            ]
          },
          "metadata": {
            "tags": [],
            "needs_background": "light"
          }
        }
      ]
    }
  ]
}