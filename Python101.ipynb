{
  "nbformat": 4,
  "nbformat_minor": 0,
  "metadata": {
    "colab": {
      "name": "Python101.ipynb",
      "provenance": [],
      "authorship_tag": "ABX9TyPfUvDCvAAEbRMJ+nsjNT6a",
      "include_colab_link": true
    },
    "kernelspec": {
      "name": "python3",
      "display_name": "Python 3"
    }
  },
  "cells": [
    {
      "cell_type": "markdown",
      "metadata": {
        "id": "view-in-github",
        "colab_type": "text"
      },
      "source": [
        "<a href=\"https://colab.research.google.com/github/Umaporn19/multivariate/blob/main/Python101.ipynb\" target=\"_parent\"><img src=\"https://colab.research.google.com/assets/colab-badge.svg\" alt=\"Open In Colab\"/></a>"
      ]
    },
    {
      "cell_type": "markdown",
      "metadata": {
        "id": "xhc2Q8kLLmM8"
      },
      "source": [
        "ตัวแปร Variable"
      ]
    },
    {
      "cell_type": "markdown",
      "metadata": {
        "id": "YuuFCuNGL9ij"
      },
      "source": [
        "หลักการตั้งชื่อตัวแปรเบื้องต้น\r\n",
        "1.  ตั้งให้สื่อ\r\n",
        "2.  ภาษาอังกฤษ\r\n",
        "3.  ใช้ตัวเลขได้แต่ห้ามขึ้นต้นด้วยตัวเลข\r\n",
        "4.  ห้ามเว้นวรรค\r\n",
        "5.  ตัวเลขกับตัวใหญ่ต่างกัน"
      ]
    },
    {
      "cell_type": "markdown",
      "metadata": {
        "id": "MCrN7cXgMr2b"
      },
      "source": [
        "มี output 2 mode : ออกหน้าจอ กับ เข้าไปเก็บในตัวแปร"
      ]
    },
    {
      "cell_type": "code",
      "metadata": {
        "colab": {
          "base_uri": "https://localhost:8080/"
        },
        "id": "vUtQ94paMjdU",
        "outputId": "72c21aaf-a862-428d-dde8-69df1308ed8c"
      },
      "source": [
        "3.14159"
      ],
      "execution_count": null,
      "outputs": [
        {
          "output_type": "execute_result",
          "data": {
            "text/plain": [
              "3.14159"
            ]
          },
          "metadata": {
            "tags": []
          },
          "execution_count": 2
        }
      ]
    },
    {
      "cell_type": "code",
      "metadata": {
        "id": "htGRIoNrLsPR"
      },
      "source": [
        "Pi = 3.14159  #hastag หรือ sharp # คือ comment >> อันนี้คือ output ที่ออกหน้าจอ"
      ],
      "execution_count": null,
      "outputs": []
    },
    {
      "cell_type": "code",
      "metadata": {
        "colab": {
          "base_uri": "https://localhost:8080/"
        },
        "id": "5v7p397-NQ_0",
        "outputId": "8fd93e05-c3bc-4005-aa3e-fe5bf2f3761c"
      },
      "source": [
        "Pi #อันนี้คือ output ที่เข้าไปอยู่ในตัวแปร"
      ],
      "execution_count": null,
      "outputs": [
        {
          "output_type": "execute_result",
          "data": {
            "text/plain": [
              "3.14159"
            ]
          },
          "metadata": {
            "tags": []
          },
          "execution_count": 4
        }
      ]
    },
    {
      "cell_type": "code",
      "metadata": {
        "colab": {
          "base_uri": "https://localhost:8080/"
        },
        "id": "vGAQx9UUNToU",
        "outputId": "b25ce0c0-3bda-4771-c078-ba44a928fddf"
      },
      "source": [
        "a = 1234567\r\n",
        "print(a)"
      ],
      "execution_count": null,
      "outputs": [
        {
          "output_type": "stream",
          "text": [
            "1234567\n"
          ],
          "name": "stdout"
        }
      ]
    },
    {
      "cell_type": "markdown",
      "metadata": {
        "id": "1wBZStcPNmsL"
      },
      "source": [
        "#ชนิดของตัวแปร 3 ชนิด "
      ]
    },
    {
      "cell_type": "markdown",
      "metadata": {
        "id": "AwXErmjjOibj"
      },
      "source": [
        "จำนวนเต็ม (integer,int)\r\n",
        "\r\n",
        "\r\n",
        "\r\n"
      ]
    },
    {
      "cell_type": "code",
      "metadata": {
        "colab": {
          "base_uri": "https://localhost:8080/"
        },
        "id": "_Shh0zBeOw8E",
        "outputId": "edf85b18-a794-47ad-b0a1-6cc3f421b857"
      },
      "source": [
        "aaa = 1092\r\n",
        "print(aaa)"
      ],
      "execution_count": null,
      "outputs": [
        {
          "output_type": "stream",
          "text": [
            "1092\n"
          ],
          "name": "stdout"
        }
      ]
    },
    {
      "cell_type": "markdown",
      "metadata": {
        "id": "YPuWq6uIO3sz"
      },
      "source": [
        "จำนวนจริง (float)"
      ]
    },
    {
      "cell_type": "code",
      "metadata": {
        "colab": {
          "base_uri": "https://localhost:8080/"
        },
        "id": "U3H-WztkPDtr",
        "outputId": "b92d88ad-2079-4107-b09d-ad080c185aa7"
      },
      "source": [
        "bbb = 11.\r\n",
        "bbb"
      ],
      "execution_count": null,
      "outputs": [
        {
          "output_type": "execute_result",
          "data": {
            "text/plain": [
              "11.0"
            ]
          },
          "metadata": {
            "tags": []
          },
          "execution_count": 7
        }
      ]
    },
    {
      "cell_type": "markdown",
      "metadata": {
        "id": "IoX7eiKuPPKZ"
      },
      "source": [
        "ตัวอักษร-ข้อความ (character และ text, string)"
      ]
    },
    {
      "cell_type": "code",
      "metadata": {
        "colab": {
          "base_uri": "https://localhost:8080/"
        },
        "id": "CwkGfecGPYBk",
        "outputId": "6390db20-6075-4943-827c-381fa8cd3551"
      },
      "source": [
        "ccc = '123456' #เราใช้ sigle quote ' หรือ double quote \" ล้อมรอบตัวหนังสือเพื่อระบุว่าเป็น charcter-string\r\n",
        "print(ccc)"
      ],
      "execution_count": null,
      "outputs": [
        {
          "output_type": "stream",
          "text": [
            "123456\n"
          ],
          "name": "stdout"
        }
      ]
    },
    {
      "cell_type": "code",
      "metadata": {
        "colab": {
          "base_uri": "https://localhost:8080/"
        },
        "id": "AiFuNofQP_hT",
        "outputId": "c2a1b5a5-e69f-4c32-de25-e424f02d1ed1"
      },
      "source": [
        "aaa + bbb #float + int = float"
      ],
      "execution_count": null,
      "outputs": [
        {
          "output_type": "execute_result",
          "data": {
            "text/plain": [
              "1103.0"
            ]
          },
          "metadata": {
            "tags": []
          },
          "execution_count": 9
        }
      ]
    },
    {
      "cell_type": "code",
      "metadata": {
        "colab": {
          "base_uri": "https://localhost:8080/",
          "height": 163
        },
        "id": "g8yAE6XeP7Pi",
        "outputId": "14ef5dc9-e240-46bb-e992-8c7e0a9419f3"
      },
      "source": [
        "bbb + ccc"
      ],
      "execution_count": null,
      "outputs": [
        {
          "output_type": "error",
          "ename": "TypeError",
          "evalue": "ignored",
          "traceback": [
            "\u001b[0;31m---------------------------------------------------------------------------\u001b[0m",
            "\u001b[0;31mTypeError\u001b[0m                                 Traceback (most recent call last)",
            "\u001b[0;32m<ipython-input-10-a3916046ad1c>\u001b[0m in \u001b[0;36m<module>\u001b[0;34m()\u001b[0m\n\u001b[0;32m----> 1\u001b[0;31m \u001b[0mbbb\u001b[0m \u001b[0;34m+\u001b[0m \u001b[0mccc\u001b[0m\u001b[0;34m\u001b[0m\u001b[0;34m\u001b[0m\u001b[0m\n\u001b[0m",
            "\u001b[0;31mTypeError\u001b[0m: unsupported operand type(s) for +: 'float' and 'str'"
          ]
        }
      ]
    },
    {
      "cell_type": "code",
      "metadata": {
        "colab": {
          "base_uri": "https://localhost:8080/"
        },
        "id": "u7-Sf_8PQn50",
        "outputId": "bfe1e18d-2bd0-4276-e27f-4e745fcfb5fe"
      },
      "source": [
        "ddd = 'อุมาพร'\r\n",
        "print(ddd)"
      ],
      "execution_count": null,
      "outputs": [
        {
          "output_type": "stream",
          "text": [
            "อุมาพร\n"
          ],
          "name": "stdout"
        }
      ]
    },
    {
      "cell_type": "markdown",
      "metadata": {
        "id": "-TDkrvd-Q1gJ"
      },
      "source": [
        "# การเปลี่ยนชนิดของตัวแปร Variable casting"
      ]
    },
    {
      "cell_type": "code",
      "metadata": {
        "colab": {
          "base_uri": "https://localhost:8080/"
        },
        "id": "mjCUdFRZVd4M",
        "outputId": "d2ad66cc-7d97-4e2d-cd58-e9072e190e14"
      },
      "source": [
        "bbb + int(ccc)"
      ],
      "execution_count": null,
      "outputs": [
        {
          "output_type": "execute_result",
          "data": {
            "text/plain": [
              "123467.0"
            ]
          },
          "metadata": {
            "tags": []
          },
          "execution_count": 12
        }
      ]
    },
    {
      "cell_type": "code",
      "metadata": {
        "colab": {
          "base_uri": "https://localhost:8080/"
        },
        "id": "Dx551R67Q_qg",
        "outputId": "0a8fd19c-cc2e-4f8e-a545-3cf93e418934"
      },
      "source": [
        "aaa + int (ccc)"
      ],
      "execution_count": null,
      "outputs": [
        {
          "output_type": "execute_result",
          "data": {
            "text/plain": [
              "124548"
            ]
          },
          "metadata": {
            "tags": []
          },
          "execution_count": 13
        }
      ]
    },
    {
      "cell_type": "code",
      "metadata": {
        "colab": {
          "base_uri": "https://localhost:8080/"
        },
        "id": "EKhasFYERfI8",
        "outputId": "da3e04c2-a3ff-45c6-d558-a59f6f3292f6"
      },
      "source": [
        "aaa + float (ccc)"
      ],
      "execution_count": null,
      "outputs": [
        {
          "output_type": "execute_result",
          "data": {
            "text/plain": [
              "124548.0"
            ]
          },
          "metadata": {
            "tags": []
          },
          "execution_count": 14
        }
      ]
    },
    {
      "cell_type": "code",
      "metadata": {
        "colab": {
          "base_uri": "https://localhost:8080/",
          "height": 35
        },
        "id": "8l6WD7E_Rqyt",
        "outputId": "88ccfaef-a6de-407c-d20c-91afb48c60a3"
      },
      "source": [
        "str(aaa)"
      ],
      "execution_count": null,
      "outputs": [
        {
          "output_type": "execute_result",
          "data": {
            "application/vnd.google.colaboratory.intrinsic+json": {
              "type": "string"
            },
            "text/plain": [
              "'1092'"
            ]
          },
          "metadata": {
            "tags": []
          },
          "execution_count": 15
        }
      ]
    },
    {
      "cell_type": "markdown",
      "metadata": {
        "id": "48UniYhgSJCD"
      },
      "source": [
        "# การดำเนินการ Opertion (Operators +,-,*,/,%)"
      ]
    },
    {
      "cell_type": "code",
      "metadata": {
        "colab": {
          "base_uri": "https://localhost:8080/"
        },
        "id": "nkyDdZ9NSV5T",
        "outputId": "d4ecbf1f-a4de-40d8-a4e8-89dfced07bf8"
      },
      "source": [
        "aaa + bbb "
      ],
      "execution_count": null,
      "outputs": [
        {
          "output_type": "execute_result",
          "data": {
            "text/plain": [
              "1103.0"
            ]
          },
          "metadata": {
            "tags": []
          },
          "execution_count": 16
        }
      ]
    },
    {
      "cell_type": "code",
      "metadata": {
        "colab": {
          "base_uri": "https://localhost:8080/"
        },
        "id": "MSplerMES3sd",
        "outputId": "ed6b89d8-a8d7-4f28-a932-512095b276e6"
      },
      "source": [
        "ab = aaa*bbb\r\n",
        "print(ab)"
      ],
      "execution_count": null,
      "outputs": [
        {
          "output_type": "stream",
          "text": [
            "12012.0\n"
          ],
          "name": "stdout"
        }
      ]
    },
    {
      "cell_type": "markdown",
      "metadata": {
        "id": "fWO1hHojTguR"
      },
      "source": [
        "% คือหมาย modulo"
      ]
    },
    {
      "cell_type": "code",
      "metadata": {
        "colab": {
          "base_uri": "https://localhost:8080/"
        },
        "id": "Bz3PGTU8TmLU",
        "outputId": "96115dd7-a421-418f-bbc1-aa3068271912"
      },
      "source": [
        "5%3"
      ],
      "execution_count": null,
      "outputs": [
        {
          "output_type": "execute_result",
          "data": {
            "text/plain": [
              "2"
            ]
          },
          "metadata": {
            "tags": []
          },
          "execution_count": 18
        }
      ]
    },
    {
      "cell_type": "code",
      "metadata": {
        "colab": {
          "base_uri": "https://localhost:8080/"
        },
        "id": "QWDnwP9CTpEc",
        "outputId": "8f4102d4-ea6a-4df8-f768-eef8efa8b407"
      },
      "source": [
        "7%3"
      ],
      "execution_count": null,
      "outputs": [
        {
          "output_type": "execute_result",
          "data": {
            "text/plain": [
              "1"
            ]
          },
          "metadata": {
            "tags": []
          },
          "execution_count": 19
        }
      ]
    },
    {
      "cell_type": "markdown",
      "metadata": {
        "id": "OEhwAdLTUDRS"
      },
      "source": [
        "#คำสั่ง print แบบพิเศษ (การ format string)"
      ]
    },
    {
      "cell_type": "code",
      "metadata": {
        "id": "YXT4c52VUNZj",
        "colab": {
          "base_uri": "https://localhost:8080/"
        },
        "outputId": "470f21dd-f7a6-43af-baab-d0f770a5451a"
      },
      "source": [
        "print('ตัวแปร') #สิ่งที่อยู่ข้างในวงเล็บคือ ตัวแปร และ string"
      ],
      "execution_count": null,
      "outputs": [
        {
          "output_type": "stream",
          "text": [
            "ตัวแปร\n"
          ],
          "name": "stdout"
        }
      ]
    },
    {
      "cell_type": "code",
      "metadata": {
        "id": "sAsuxoi9nY22",
        "colab": {
          "base_uri": "https://localhost:8080/"
        },
        "outputId": "858556c3-1a53-49db-a32f-8a685f4f3171"
      },
      "source": [
        "print(f'% คือการหารเอาเศษ เช่น 7%3 = {7%3}') \r\n",
        "#เพิ่ม f หน้า 'string' และใช้ {} ใส่ code"
      ],
      "execution_count": null,
      "outputs": [
        {
          "output_type": "stream",
          "text": [
            "% คือการหารเอาเศษ เช่น 7%3 = 1\n"
          ],
          "name": "stdout"
        }
      ]
    },
    {
      "cell_type": "code",
      "metadata": {
        "id": "XrnIgAV3ncke",
        "colab": {
          "base_uri": "https://localhost:8080/"
        },
        "outputId": "9f0c721d-5384-4f0f-add0-93d64572ab68"
      },
      "source": [
        "print(f'% คือการหารเอาเศษ เช่น 7%3 = {7%3} \\\r\n",
        "แต่ \\n/ คือการหารปกติ เช่น 7/3 = {7/3} \\\r\n",
        "\\n// คือการหารเอาส่วน เช่น 7//3 = {7//3} หรือ \\\r\n",
        "\\n/ คือการหารเอาส่วนแบบให้int เช่น int(7/3) = {int(7/3)}')\r\n",
        "#\\n คือการขึ้นบรรทัดใหม่ ใช้ในการตัด code แต่คอมจะไม่เห็น "
      ],
      "execution_count": null,
      "outputs": [
        {
          "output_type": "stream",
          "text": [
            "% คือการหารเอาเศษ เช่น 7%3 = 1 แต่ \n",
            "/ คือการหารปกติ เช่น 7/3 = 2.3333333333333335 \n",
            "// คือการหารเอาส่วน เช่น 7//3 = 2 หรือ \n",
            "/ คือการหารเอาส่วนแบบให้int เช่น int(7/3) = 2\n"
          ],
          "name": "stdout"
        }
      ]
    },
    {
      "cell_type": "markdown",
      "metadata": {
        "id": "XeS59OVknf-a"
      },
      "source": [
        "#DATA STRUCTURE (โครงสร้างข้อมูล)\r\n",
        "##### List คือ การเอาตัวแปรหลายๆตัวมาเรียงกัน\r\n",
        "#####list สามารถสร้างได้ 2 แบบ"
      ]
    },
    {
      "cell_type": "markdown",
      "metadata": {
        "id": "-IoeXi3cnnIt"
      },
      "source": [
        "##แบบที่ 1 square bucket"
      ]
    },
    {
      "cell_type": "code",
      "metadata": {
        "id": "lXEBA2Oonq7d"
      },
      "source": [
        "list_a = []"
      ],
      "execution_count": null,
      "outputs": []
    },
    {
      "cell_type": "code",
      "metadata": {
        "id": "zeOni0Lont29"
      },
      "source": [
        "list_d = [1,5,'v'] #ลำดับของตัวแปรใน list จะมีความสำคัญ"
      ],
      "execution_count": null,
      "outputs": []
    },
    {
      "cell_type": "markdown",
      "metadata": {
        "id": "jqJ3LObdnv8t"
      },
      "source": [
        "ลำดับใน list มีความสำคัญ (ลำดับใน list เริ่มจาก 0,1,2,...)"
      ]
    },
    {
      "cell_type": "code",
      "metadata": {
        "id": "gl3LTnC-n_6t",
        "colab": {
          "base_uri": "https://localhost:8080/",
          "height": 35
        },
        "outputId": "0a0b2fb8-75ff-4013-ea27-e6a30cd452a0"
      },
      "source": [
        "list_d[2]"
      ],
      "execution_count": null,
      "outputs": [
        {
          "output_type": "execute_result",
          "data": {
            "application/vnd.google.colaboratory.intrinsic+json": {
              "type": "string"
            },
            "text/plain": [
              "'v'"
            ]
          },
          "metadata": {
            "tags": []
          },
          "execution_count": 35
        }
      ]
    },
    {
      "cell_type": "markdown",
      "metadata": {
        "id": "4TKYkQGdoFT3"
      },
      "source": [
        "แบบที่ 2"
      ]
    },
    {
      "cell_type": "code",
      "metadata": {
        "id": "DPkGWx9coHON",
        "colab": {
          "base_uri": "https://localhost:8080/"
        },
        "outputId": "428814b2-8d3f-44c5-cd2e-6785d5ebe06a"
      },
      "source": [
        "list_c = list()\r\n",
        "list_c"
      ],
      "execution_count": null,
      "outputs": [
        {
          "output_type": "execute_result",
          "data": {
            "text/plain": [
              "[]"
            ]
          },
          "metadata": {
            "tags": []
          },
          "execution_count": 36
        }
      ]
    },
    {
      "cell_type": "code",
      "metadata": {
        "id": "HRzEZfZzoJjd"
      },
      "source": [
        "list_b = [111,'c','งง','1092']"
      ],
      "execution_count": null,
      "outputs": []
    },
    {
      "cell_type": "markdown",
      "metadata": {
        "id": "AaotSRKMoLSW"
      },
      "source": [
        "##append() เพิ่มสมาชิกใน list"
      ]
    },
    {
      "cell_type": "code",
      "metadata": {
        "id": "Y-uHOwGqoO6W",
        "colab": {
          "base_uri": "https://localhost:8080/"
        },
        "outputId": "e13f5403-380b-4e98-e2e1-e82cd34783d8"
      },
      "source": [
        "list_b.append('u')\r\n",
        "list_b"
      ],
      "execution_count": null,
      "outputs": [
        {
          "output_type": "execute_result",
          "data": {
            "text/plain": [
              "[111, 'c', 'งง', '1092', 'u', 'u']"
            ]
          },
          "metadata": {
            "tags": []
          },
          "execution_count": 37
        }
      ]
    },
    {
      "cell_type": "code",
      "metadata": {
        "id": "YHQtEgT8oRKV",
        "colab": {
          "base_uri": "https://localhost:8080/",
          "height": 35
        },
        "outputId": "b7e0a403-fe59-464b-8f74-26a21a24bc36"
      },
      "source": [
        "list_b[-1] # เป้นการบอกลำดับตัวที่อยู่ใน list นั้นๆ โดย -1 คือการเรียงลำดับจากตัวสุดท้ายใน list"
      ],
      "execution_count": null,
      "outputs": [
        {
          "output_type": "execute_result",
          "data": {
            "application/vnd.google.colaboratory.intrinsic+json": {
              "type": "string"
            },
            "text/plain": [
              "'u'"
            ]
          },
          "metadata": {
            "tags": []
          },
          "execution_count": 38
        }
      ]
    },
    {
      "cell_type": "markdown",
      "metadata": {
        "id": "PEgGYSJ9oTFG"
      },
      "source": [
        "##String > list of characters"
      ]
    },
    {
      "cell_type": "code",
      "metadata": {
        "id": "LWWdXLg0oXAm",
        "colab": {
          "base_uri": "https://localhost:8080/",
          "height": 35
        },
        "outputId": "ca925a01-1584-400f-9939-8b09f37d2a68"
      },
      "source": [
        "t = 'python is easy'\r\n",
        "t"
      ],
      "execution_count": null,
      "outputs": [
        {
          "output_type": "execute_result",
          "data": {
            "application/vnd.google.colaboratory.intrinsic+json": {
              "type": "string"
            },
            "text/plain": [
              "'python is easy'"
            ]
          },
          "metadata": {
            "tags": []
          },
          "execution_count": 39
        }
      ]
    },
    {
      "cell_type": "code",
      "metadata": {
        "id": "ofNw1P93oZOt",
        "colab": {
          "base_uri": "https://localhost:8080/",
          "height": 35
        },
        "outputId": "6bc61080-0eff-428d-bd24-1ca52d7caedf"
      },
      "source": [
        "t[1] #เป็นการรันอักษรตัวที่ 1 จากซ้ายมือ ซึ่ง p เป็นตัวที่ 0"
      ],
      "execution_count": null,
      "outputs": [
        {
          "output_type": "execute_result",
          "data": {
            "application/vnd.google.colaboratory.intrinsic+json": {
              "type": "string"
            },
            "text/plain": [
              "'y'"
            ]
          },
          "metadata": {
            "tags": []
          },
          "execution_count": 40
        }
      ]
    },
    {
      "cell_type": "code",
      "metadata": {
        "id": "3bYulaPjoa8O",
        "colab": {
          "base_uri": "https://localhost:8080/",
          "height": 35
        },
        "outputId": "892b5e62-7fc4-41b4-fe84-7ba8ecade790"
      },
      "source": [
        "t[-4] #เป็นการรันอักษรตัวที่ 4 จากขวามือ "
      ],
      "execution_count": null,
      "outputs": [
        {
          "output_type": "execute_result",
          "data": {
            "application/vnd.google.colaboratory.intrinsic+json": {
              "type": "string"
            },
            "text/plain": [
              "'e'"
            ]
          },
          "metadata": {
            "tags": []
          },
          "execution_count": 41
        }
      ]
    },
    {
      "cell_type": "code",
      "metadata": {
        "id": "g4inHvjsocdF",
        "colab": {
          "base_uri": "https://localhost:8080/",
          "height": 35
        },
        "outputId": "22394c82-33e8-4361-b7c7-bedfd7305e4d"
      },
      "source": [
        "t[6] #เป็นการรันอักษรตัวที่ 6 จากซ้ายมือ ซึ่ง p เป็นตัวที่ 0"
      ],
      "execution_count": null,
      "outputs": [
        {
          "output_type": "execute_result",
          "data": {
            "application/vnd.google.colaboratory.intrinsic+json": {
              "type": "string"
            },
            "text/plain": [
              "' '"
            ]
          },
          "metadata": {
            "tags": []
          },
          "execution_count": 42
        }
      ]
    },
    {
      "cell_type": "markdown",
      "metadata": {
        "id": "vDnt3mpxodFV"
      },
      "source": [
        "#จบ 5 มกราคม 2564"
      ]
    },
    {
      "cell_type": "markdown",
      "metadata": {
        "id": "8tjYxXPZhcZw"
      },
      "source": [
        "#คาบ 3 11 มกราคม 2561"
      ]
    },
    {
      "cell_type": "code",
      "metadata": {
        "id": "nfXbQYRxhkYg",
        "colab": {
          "base_uri": "https://localhost:8080/"
        },
        "outputId": "80131668-80ff-442c-bfe4-60f8bb6a381e"
      },
      "source": [
        "len(t) #นับความยาวของสตริง t มีอักษรกี่ตัว ต้องรันข้างบนก่อน ไม่งั้นจะ error"
      ],
      "execution_count": null,
      "outputs": [
        {
          "output_type": "execute_result",
          "data": {
            "text/plain": [
              "14"
            ]
          },
          "metadata": {
            "tags": []
          },
          "execution_count": 43
        }
      ]
    },
    {
      "cell_type": "code",
      "metadata": {
        "id": "tTdu8V6ak629",
        "colab": {
          "base_uri": "https://localhost:8080/"
        },
        "outputId": "0271f952-9673-491f-e17b-be765aa2d0dd"
      },
      "source": [
        "list_b"
      ],
      "execution_count": null,
      "outputs": [
        {
          "output_type": "execute_result",
          "data": {
            "text/plain": [
              "[111, 'c', 'งง', '1092', 'u', 'u']"
            ]
          },
          "metadata": {
            "tags": []
          },
          "execution_count": 44
        }
      ]
    },
    {
      "cell_type": "code",
      "metadata": {
        "id": "qPUrgDsRjK-O",
        "colab": {
          "base_uri": "https://localhost:8080/"
        },
        "outputId": "f4d1bff0-28c4-469c-ade0-3212c60d5c26"
      },
      "source": [
        "len(list_b) #len คือคำสั่งตรวจสอบความยาวของ list (จำนวนสมาชิก)"
      ],
      "execution_count": null,
      "outputs": [
        {
          "output_type": "execute_result",
          "data": {
            "text/plain": [
              "6"
            ]
          },
          "metadata": {
            "tags": []
          },
          "execution_count": 45
        }
      ]
    },
    {
      "cell_type": "code",
      "metadata": {
        "id": "u_yfCxiylCed",
        "colab": {
          "base_uri": "https://localhost:8080/"
        },
        "outputId": "e74ded04-7601-4bdb-c3b7-d10ebc59c95a"
      },
      "source": [
        "list_b.append(t)\r\n",
        "print(list_b)"
      ],
      "execution_count": null,
      "outputs": [
        {
          "output_type": "stream",
          "text": [
            "[111, 'c', 'งง', '1092', 'u', 'u', 'python is easy']\n"
          ],
          "name": "stdout"
        }
      ]
    },
    {
      "cell_type": "markdown",
      "metadata": {
        "id": "uRScaaqPlbC1"
      },
      "source": [
        "##ตัวที่อยู่ข้างใน [] เราเรียกว่า index (ตัวชี้)"
      ]
    },
    {
      "cell_type": "markdown",
      "metadata": {
        "id": "ef0Z6Gv0lmE7"
      },
      "source": [
        "##List slicing สามารถทำได้โดยใช้ colon :"
      ]
    },
    {
      "cell_type": "markdown",
      "metadata": {
        "id": "683G58qHmmxD"
      },
      "source": [
        "###[a:b] --> [a,b) "
      ]
    },
    {
      "cell_type": "code",
      "metadata": {
        "id": "53X0xfxtl0qS",
        "colab": {
          "base_uri": "https://localhost:8080/"
        },
        "outputId": "c96d909f-fc7a-47c4-f56a-93c00e2e45ea"
      },
      "source": [
        "print(t)\r\n",
        "print(t[7:9]) #ข้างหน้า colon คือจุดเริ่มต้น ข้างหลังจุดสิ้นสุด \r\n",
        "print(len(t[7:9])) #เอา 7 กะ 8 ส่วน 9 ไม่เอา เลยมี 2 ตัว"
      ],
      "execution_count": null,
      "outputs": [
        {
          "output_type": "stream",
          "text": [
            "python is easy\n",
            "is\n",
            "2\n"
          ],
          "name": "stdout"
        }
      ]
    },
    {
      "cell_type": "code",
      "metadata": {
        "id": "ZZaw3tRwnrxb",
        "colab": {
          "base_uri": "https://localhost:8080/",
          "height": 35
        },
        "outputId": "7ef904a2-a4bb-41ae-82aa-fea53ae7f303"
      },
      "source": [
        "t[0:14:2] #เลขหลัง colon หยิบ ทุก ๆ 2 ตัว"
      ],
      "execution_count": null,
      "outputs": [
        {
          "output_type": "execute_result",
          "data": {
            "application/vnd.google.colaboratory.intrinsic+json": {
              "type": "string"
            },
            "text/plain": [
              "'pto ses'"
            ]
          },
          "metadata": {
            "tags": []
          },
          "execution_count": 51
        }
      ]
    },
    {
      "cell_type": "code",
      "metadata": {
        "id": "VKipibMBoIgm"
      },
      "source": [
        "Z = [1,2,3,4,5,6,7,8,9,10]\r\n"
      ],
      "execution_count": null,
      "outputs": []
    },
    {
      "cell_type": "markdown",
      "metadata": {
        "id": "N3plmI9roRON"
      },
      "source": [
        "### Quiz\r\n",
        "####ให้ใช้ list slicing เลือกมาเฉพาะเลขคู่ "
      ]
    },
    {
      "cell_type": "code",
      "metadata": {
        "id": "__H8g77Oowc6",
        "colab": {
          "base_uri": "https://localhost:8080/"
        },
        "outputId": "0872258d-e9e6-45d5-9971-4af0bcdfdfc8"
      },
      "source": [
        "Z[1:10:2] #เริ่มตัวที่ 2 มีทั้งหมด 10 ตัว  นับหยิบมาทีละ 2 "
      ],
      "execution_count": null,
      "outputs": [
        {
          "output_type": "execute_result",
          "data": {
            "text/plain": [
              "[2, 4, 6, 8, 10]"
            ]
          },
          "metadata": {
            "tags": []
          },
          "execution_count": 57
        }
      ]
    },
    {
      "cell_type": "markdown",
      "metadata": {
        "id": "YCSF3LGbm-zx"
      },
      "source": [
        "ถ้าเว้นว่างหน้า : หมายความว่า เริ่มตั้งแต่ตัวแรก\r\n"
      ]
    },
    {
      "cell_type": "markdown",
      "metadata": {
        "id": "dzhJhRJmnp5A"
      },
      "source": [
        "ถ้าเว้นว่างหลัง : หมายความว่า ไปจนถึงตัวสุดท้าย"
      ]
    },
    {
      "cell_type": "code",
      "metadata": {
        "id": "x8aTWIxvpJih",
        "colab": {
          "base_uri": "https://localhost:8080/"
        },
        "outputId": "6dbf21f9-d938-4e7f-fdb3-e32afb63d935"
      },
      "source": [
        "print(t)\r\n",
        "print(t[:6]) #\r\n",
        "print(t[10:]) #เริ่มตัวที่ 10 ตัดไปจนถึงตัวสุดท้าย\r\n",
        "print(t[-4:]) \r\n",
        "print(t[:]) #จะได้ทั้งหมดเลย เหมือน t ธรรมดา"
      ],
      "execution_count": null,
      "outputs": [
        {
          "output_type": "stream",
          "text": [
            "python is easy\n",
            "python\n",
            "easy\n",
            "easy\n",
            "python is easy\n"
          ],
          "name": "stdout"
        }
      ]
    },
    {
      "cell_type": "code",
      "metadata": {
        "id": "ANtD5_ElqORU",
        "colab": {
          "base_uri": "https://localhost:8080/"
        },
        "outputId": "66cad68f-55f2-4bac-c762-66dccbf824ca"
      },
      "source": [
        "print(Z[::2]) #เริ่มจากตัวที่ 0 : เอาทุกตัว : หยิบมาทุก ๆ 2 ตัว"
      ],
      "execution_count": null,
      "outputs": [
        {
          "output_type": "stream",
          "text": [
            "[1, 3, 5, 7, 9]\n"
          ],
          "name": "stdout"
        }
      ]
    },
    {
      "cell_type": "markdown",
      "metadata": {
        "id": "RPs5zTUZpY8t"
      },
      "source": [
        "##เราสามารถเอา list มาต่อกันได้ด้วย +"
      ]
    },
    {
      "cell_type": "code",
      "metadata": {
        "id": "bszfx1dPsM0A",
        "colab": {
          "base_uri": "https://localhost:8080/",
          "height": 35
        },
        "outputId": "060d1f70-817a-40c2-f0c7-21de219b357b"
      },
      "source": [
        "t + '??'"
      ],
      "execution_count": null,
      "outputs": [
        {
          "output_type": "execute_result",
          "data": {
            "application/vnd.google.colaboratory.intrinsic+json": {
              "type": "string"
            },
            "text/plain": [
              "'python is easy??'"
            ]
          },
          "metadata": {
            "tags": []
          },
          "execution_count": 60
        }
      ]
    },
    {
      "cell_type": "code",
      "metadata": {
        "id": "vW6YcNLYsR2G"
      },
      "source": [
        "t + list_b ##ไม่สามารถเอา list ปกติมาต่อกับ sting ได้"
      ],
      "execution_count": null,
      "outputs": []
    },
    {
      "cell_type": "code",
      "metadata": {
        "id": "J9lKKI7JsbYG",
        "colab": {
          "base_uri": "https://localhost:8080/"
        },
        "outputId": "ae39cd42-96b9-4f65-f79b-d9e302fa1f5d"
      },
      "source": [
        "print(list_a)\r\n",
        "list_b = [111, 'c','งง',aaa]\r\n",
        "print(list_b)\r\n",
        "print(list_b + list_a) # บวกคือการเอาสมาชิกมารวมกัน\r\n"
      ],
      "execution_count": null,
      "outputs": [
        {
          "output_type": "stream",
          "text": [
            "[]\n",
            "[111, 'c', 'งง', 1092]\n",
            "[111, 'c', 'งง', 1092]\n"
          ],
          "name": "stdout"
        }
      ]
    },
    {
      "cell_type": "code",
      "metadata": {
        "id": "mzWhGudfs_D-",
        "colab": {
          "base_uri": "https://localhost:8080/"
        },
        "outputId": "67b3532a-6204-4fed-9f68-a0cdf7f15ace"
      },
      "source": [
        "list_b.append(list_a)\r\n",
        "print(list_b)"
      ],
      "execution_count": null,
      "outputs": [
        {
          "output_type": "stream",
          "text": [
            "[111, 'c', 'งง', 1092, []]\n"
          ],
          "name": "stdout"
        }
      ]
    },
    {
      "cell_type": "markdown",
      "metadata": {
        "id": "y9qixq3ttrfW"
      },
      "source": [
        "####การแบ่ง string ตามสัญลักษณ์ที่กำหนด ---> split string"
      ]
    },
    {
      "cell_type": "code",
      "metadata": {
        "id": "JNYaO_bVt5vV",
        "colab": {
          "base_uri": "https://localhost:8080/",
          "height": 35
        },
        "outputId": "3562b0a0-d5f9-43a9-fee0-2f59ac167b62"
      },
      "source": [
        "t"
      ],
      "execution_count": null,
      "outputs": [
        {
          "output_type": "execute_result",
          "data": {
            "application/vnd.google.colaboratory.intrinsic+json": {
              "type": "string"
            },
            "text/plain": [
              "'python is easy'"
            ]
          },
          "metadata": {
            "tags": []
          },
          "execution_count": 67
        }
      ]
    },
    {
      "cell_type": "code",
      "metadata": {
        "id": "ILuh1dTWtzvt",
        "colab": {
          "base_uri": "https://localhost:8080/"
        },
        "outputId": "2eeff82f-1510-454d-9bb9-94a4362ade5d"
      },
      "source": [
        "t.split(' ') #แบ่งตัวใน t ที่มันเป็นช่องว่าง ให้ทำการแบ่ง text ด้วยสัญลักษณ์อะไร  แต่ละตัว"
      ],
      "execution_count": null,
      "outputs": [
        {
          "output_type": "execute_result",
          "data": {
            "text/plain": [
              "['python', 'is', 'easy']"
            ]
          },
          "metadata": {
            "tags": []
          },
          "execution_count": 68
        }
      ]
    },
    {
      "cell_type": "code",
      "metadata": {
        "id": "Y70lHgALt8zq"
      },
      "source": [
        "time = '12:30:15'"
      ],
      "execution_count": null,
      "outputs": []
    },
    {
      "cell_type": "code",
      "metadata": {
        "id": "9i4p0E-AuFtp",
        "colab": {
          "base_uri": "https://localhost:8080/"
        },
        "outputId": "4921a13f-a9ca-4034-c7a2-3d1528b87184"
      },
      "source": [
        "time.split(':')"
      ],
      "execution_count": null,
      "outputs": [
        {
          "output_type": "execute_result",
          "data": {
            "text/plain": [
              "['12', '30', '15']"
            ]
          },
          "metadata": {
            "tags": []
          },
          "execution_count": 70
        }
      ]
    },
    {
      "cell_type": "code",
      "metadata": {
        "id": "6la5741KuFpq",
        "colab": {
          "base_uri": "https://localhost:8080/"
        },
        "outputId": "c81b1e2f-78b1-4790-ac97-ff4f6f0c3e8c"
      },
      "source": [
        "t_sp = t.split(' ')\r\n",
        "print(t_sp)"
      ],
      "execution_count": null,
      "outputs": [
        {
          "output_type": "stream",
          "text": [
            "['python', 'is', 'easy']\n"
          ],
          "name": "stdout"
        }
      ]
    },
    {
      "cell_type": "code",
      "metadata": {
        "id": "8TTFlzZ-uFml",
        "colab": {
          "base_uri": "https://localhost:8080/"
        },
        "outputId": "4f5902a3-6a54-425d-8611-e31b358992c1"
      },
      "source": [
        "### วิธีรวมกลับ\r\n",
        "print (' : '.join(t_sp))"
      ],
      "execution_count": null,
      "outputs": [
        {
          "output_type": "stream",
          "text": [
            "python : is : easy\n"
          ],
          "name": "stdout"
        }
      ]
    },
    {
      "cell_type": "markdown",
      "metadata": {
        "id": "f7_7ip06vZkM"
      },
      "source": [
        "## การบ้าน คำนวณเวลาเป็นวินาทีของเวลาต่อไปนี้โดยใช้คำสั่ง split () ช่วย (pint ออกมาให้สวยงาม)\r\n",
        "12:30:15\r\n",
        "\r\n",
        "13:41:07\r\n",
        "\r\n",
        "12:53:15\r\n",
        "\r\n",
        "00:59:25\r\n",
        "\r\n",
        "11:11:11\r\n",
        "\r\n",
        "16:06:09\r\n",
        "\r\n",
        "21:12:30\r\n",
        "\r\n",
        "10:06:15\r\n",
        "\r\n",
        "ตัวอย่าง > 00:01:10  = 70 วินาที\r\n",
        "\r\n",
        "ตัวอย่าง > 01:00:01 = 3601 วินาที ##ส่งก่อนพรุ่งนี้ตอนบ่ายก่อนเรียน\r\n"
      ]
    },
    {
      "cell_type": "markdown",
      "metadata": {
        "id": "ZKUkt4EFCFoi"
      },
      "source": [
        "###**ข้อที่** **1** >> **12:30:15**"
      ]
    },
    {
      "cell_type": "code",
      "metadata": {
        "id": "bmm6zizbv9oL",
        "colab": {
          "base_uri": "https://localhost:8080/"
        },
        "outputId": "3ca552ce-789f-4f35-e340-cc5de31f226a"
      },
      "source": [
        "Q1 = '12:30:15'\r\n",
        "Q1 = Q1.split(\":\")\r\n",
        "list_Q1 = [12,30,15]\r\n",
        "h = float(Q1[0])*3600\r\n",
        "m = float(Q1[1])*60\r\n",
        "s = float(Q1[2])\r\n",
        "R1 = h + m + s \r\n",
        "print(R1)"
      ],
      "execution_count": null,
      "outputs": [
        {
          "output_type": "stream",
          "text": [
            "45015.0\n"
          ],
          "name": "stdout"
        }
      ]
    },
    {
      "cell_type": "markdown",
      "metadata": {
        "id": "f4tXTcLBBjSj"
      },
      "source": [
        "###**ตอบ** **12:30**:**15** = **45015.0** **วินาที** "
      ]
    },
    {
      "cell_type": "markdown",
      "metadata": {
        "id": "T4FhzRBGCSUD"
      },
      "source": [
        "###**ข้อที่** **2** >> **13:41:07** "
      ]
    },
    {
      "cell_type": "code",
      "metadata": {
        "id": "Le2_9OlLChL4",
        "colab": {
          "base_uri": "https://localhost:8080/"
        },
        "outputId": "c1e390cf-124d-4f99-9b56-7aeef52120cd"
      },
      "source": [
        "Q2 = '13:41:07'\r\n",
        "Q2 = Q2.split(\":\")\r\n",
        "list_Q2 = [13,41,7]\r\n",
        "h = float(Q2[0])*3600\r\n",
        "m = float(Q2[1])*60\r\n",
        "s = float(Q2[2])\r\n",
        "R2 = h + m + s \r\n",
        "print(R2)"
      ],
      "execution_count": null,
      "outputs": [
        {
          "output_type": "stream",
          "text": [
            "49267.0\n"
          ],
          "name": "stdout"
        }
      ]
    },
    {
      "cell_type": "markdown",
      "metadata": {
        "id": "JPGHAERjC3nX"
      },
      "source": [
        "###**ตอบ** **13:41**:**07** = **49267.0** **วินาที** "
      ]
    },
    {
      "cell_type": "markdown",
      "metadata": {
        "id": "htegap1VDC61"
      },
      "source": [
        "###**ข้อที่** **3** >> **12:53:15** "
      ]
    },
    {
      "cell_type": "code",
      "metadata": {
        "id": "GkZHL-baEnzb",
        "colab": {
          "base_uri": "https://localhost:8080/"
        },
        "outputId": "6f119c20-c7bc-48e4-eaba-410a689f1bf4"
      },
      "source": [
        "Q3 = '12:53:15'\r\n",
        "Q3 = Q3.split(\":\")\r\n",
        "list_Q3 = [12,53,15]\r\n",
        "h = float(Q3[0])*3600\r\n",
        "m = float(Q3[1])*60\r\n",
        "s = float(Q3[2])\r\n",
        "R3 = h + m + s \r\n",
        "print(R3)"
      ],
      "execution_count": null,
      "outputs": [
        {
          "output_type": "stream",
          "text": [
            "46395.0\n"
          ],
          "name": "stdout"
        }
      ]
    },
    {
      "cell_type": "markdown",
      "metadata": {
        "id": "6ghmn6oIEovE"
      },
      "source": [
        "###**ตอบ** **12:53**:**15** = **46395.0** **วินาที** "
      ]
    },
    {
      "cell_type": "markdown",
      "metadata": {
        "id": "ENyVoDahDC1M"
      },
      "source": [
        "###**ข้อที่** **4** >> **00:59:25** "
      ]
    },
    {
      "cell_type": "code",
      "metadata": {
        "id": "_mZWEsQaEpgq",
        "colab": {
          "base_uri": "https://localhost:8080/"
        },
        "outputId": "a45f9b8b-be8e-4ece-9331-8e56306e48d9"
      },
      "source": [
        "Q4 = '00:59:25'\r\n",
        "Q4 = Q4.split(\":\")\r\n",
        "list_Q2 = [00,59,25]\r\n",
        "h = float(Q4[0])*3600\r\n",
        "m = float(Q4[1])*60\r\n",
        "s = float(Q4[2])\r\n",
        "R4 = h + m + s \r\n",
        "print(R4)"
      ],
      "execution_count": null,
      "outputs": [
        {
          "output_type": "stream",
          "text": [
            "3565.0\n"
          ],
          "name": "stdout"
        }
      ]
    },
    {
      "cell_type": "markdown",
      "metadata": {
        "id": "m6wuoYG9EsEC"
      },
      "source": [
        "###**ตอบ** **00:59**:**25** = **3565.0** **วินาที** "
      ]
    },
    {
      "cell_type": "markdown",
      "metadata": {
        "id": "QTrrrEOlDCwx"
      },
      "source": [
        "###**ข้อที่** **5** >> **11:11:11** "
      ]
    },
    {
      "cell_type": "code",
      "metadata": {
        "id": "92RwhoXgErgK",
        "colab": {
          "base_uri": "https://localhost:8080/"
        },
        "outputId": "5edc0678-a84b-4be3-d70e-a5c88f17ee88"
      },
      "source": [
        "Q5 = '11:11:11'\r\n",
        "Q5 = Q5.split(\":\")\r\n",
        "list_Q2 = [12,30,15]\r\n",
        "h = float(Q5[0])*3600\r\n",
        "m = float(Q5[1])*60\r\n",
        "s = float(Q5[2])\r\n",
        "R5 = h + m + s \r\n",
        "print(R5)"
      ],
      "execution_count": null,
      "outputs": [
        {
          "output_type": "stream",
          "text": [
            "40271.0\n"
          ],
          "name": "stdout"
        }
      ]
    },
    {
      "cell_type": "markdown",
      "metadata": {
        "id": "RNqPvBeAGiWZ"
      },
      "source": [
        "###**ตอบ** **11:11**:**11** = **40271.0** **วินาที** "
      ]
    },
    {
      "cell_type": "markdown",
      "metadata": {
        "id": "5BYNwmvRDCsZ"
      },
      "source": [
        "###**ข้อที่** **6** >> **16:06:09** "
      ]
    },
    {
      "cell_type": "code",
      "metadata": {
        "id": "xDUeqgt-EwKr",
        "colab": {
          "base_uri": "https://localhost:8080/"
        },
        "outputId": "7fbad393-705d-490a-830d-01885744ad56"
      },
      "source": [
        "Q6 = '16:06:09'\r\n",
        "Q6 = Q6.split(\":\")\r\n",
        "list_Q6 = [16,6,9]\r\n",
        "h = float(Q6[0])*3600\r\n",
        "m = float(Q6[1])*60\r\n",
        "s = float(Q6[2])\r\n",
        "R6 = h + m + s \r\n",
        "print(R6)"
      ],
      "execution_count": null,
      "outputs": [
        {
          "output_type": "stream",
          "text": [
            "57969.0\n"
          ],
          "name": "stdout"
        }
      ]
    },
    {
      "cell_type": "markdown",
      "metadata": {
        "id": "VOH3VwUuEwui"
      },
      "source": [
        "###**ตอบ** **16:06**:**09** = **57969.0** **วินาที** "
      ]
    },
    {
      "cell_type": "markdown",
      "metadata": {
        "id": "B_ZP2BRNDCn6"
      },
      "source": [
        "###**ข้อที่** **7** >> **21:12:30** "
      ]
    },
    {
      "cell_type": "code",
      "metadata": {
        "id": "5yAJPeSIEyRR",
        "colab": {
          "base_uri": "https://localhost:8080/"
        },
        "outputId": "ee5d2a32-f4fc-4ec0-d6f2-c1d2d0c5f455"
      },
      "source": [
        "Q7 = '21:12:30'\r\n",
        "Q7 = Q7.split(\":\")\r\n",
        "list_Q7 = [21,12,30]\r\n",
        "h = float(Q7[0])*3600\r\n",
        "m = float(Q7[1])*60\r\n",
        "s = float(Q7[2])\r\n",
        "R7 = h + m + s \r\n",
        "print(R7)"
      ],
      "execution_count": null,
      "outputs": [
        {
          "output_type": "stream",
          "text": [
            "76350.0\n"
          ],
          "name": "stdout"
        }
      ]
    },
    {
      "cell_type": "markdown",
      "metadata": {
        "id": "Jlx60MF2Eyzj"
      },
      "source": [
        "###**ตอบ** **21:12**:**30** = **76350.0** **วินาที** "
      ]
    },
    {
      "cell_type": "markdown",
      "metadata": {
        "id": "0F1s-ZVOEC2K"
      },
      "source": [
        "###**ข้อที่** **8** >> **10:06:15** "
      ]
    },
    {
      "cell_type": "code",
      "metadata": {
        "id": "CUjQWIeQE0CZ",
        "colab": {
          "base_uri": "https://localhost:8080/"
        },
        "outputId": "fd182441-f1c1-40a0-8ecd-3655947862c7"
      },
      "source": [
        "Q8 = '10:06:15'\r\n",
        "Q8 = Q8.split(\":\")\r\n",
        "list_Q8 = [10,6,15]\r\n",
        "h = float(Q8[0])*3600\r\n",
        "m = float(Q8[1])*60\r\n",
        "s = float(Q8[2])\r\n",
        "R8 = h + m + s \r\n",
        "print(R8)"
      ],
      "execution_count": null,
      "outputs": [
        {
          "output_type": "stream",
          "text": [
            "36375.0\n"
          ],
          "name": "stdout"
        }
      ]
    },
    {
      "cell_type": "markdown",
      "metadata": {
        "id": "BYyvALsYE0mK"
      },
      "source": [
        "###**ตอบ** **10:06**:**15** = **36375.0** **วินาที** "
      ]
    },
    {
      "cell_type": "markdown",
      "metadata": {
        "id": "LbNU-rSbRLMY"
      },
      "source": [
        "####อาจารย์พาทำ 12 มกราคม 2564"
      ]
    },
    {
      "cell_type": "code",
      "metadata": {
        "id": "LxH87GNqOHdQ"
      },
      "source": [
        "q1 = ' 12 : 30 : 15'"
      ],
      "execution_count": 13,
      "outputs": []
    },
    {
      "cell_type": "code",
      "metadata": {
        "id": "k9DFTIlDOQEY",
        "outputId": "f97554ae-bfb2-41af-b2a3-0d306238849b",
        "colab": {
          "base_uri": "https://localhost:8080/"
        }
      },
      "source": [
        "q1_sp = q1.split(':')\r\n",
        "print(q1_sp)"
      ],
      "execution_count": 3,
      "outputs": [
        {
          "output_type": "stream",
          "text": [
            "['12', '30', '15']\n"
          ],
          "name": "stdout"
        }
      ]
    },
    {
      "cell_type": "code",
      "metadata": {
        "id": "Y-t6LA2tOYIP",
        "outputId": "daabe3d2-2844-4fcb-83d0-31925850e6d2",
        "colab": {
          "base_uri": "https://localhost:8080/"
        }
      },
      "source": [
        "answer1 = int(q1_sp[0])*3600 + int(q1_sp[1])*60+ int(q1_sp[2])\r\n",
        "print(answer1)"
      ],
      "execution_count": 8,
      "outputs": [
        {
          "output_type": "stream",
          "text": [
            "45015\n"
          ],
          "name": "stdout"
        }
      ]
    },
    {
      "cell_type": "code",
      "metadata": {
        "id": "IlmuZhh7PPuu",
        "outputId": "00b273a6-472a-409b-ccc9-9b44984c3a8d",
        "colab": {
          "base_uri": "https://localhost:8080/"
        }
      },
      "source": [
        "print(f' เวลา{q1} คำนวณเป็นจำนวนวินาทีได้เท่ากับ {answer1}')"
      ],
      "execution_count": 14,
      "outputs": [
        {
          "output_type": "stream",
          "text": [
            " เวลา 12 : 30 : 15 คำนวณเป็นจำนวนวินาทีได้เท่ากับ 45015\n"
          ],
          "name": "stdout"
        }
      ]
    }
  ]
}